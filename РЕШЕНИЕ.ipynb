{
 "cells": [
  {
   "cell_type": "code",
   "execution_count": 46,
   "id": "47cdba1a-bf87-4005-9de1-0221aadf4b59",
   "metadata": {},
   "outputs": [],
   "source": [
    "import pandas as pd\n",
    "import matplotlib.pyplot as plt\n",
    "import seaborn as sns\n",
    "import numpy as np\n",
    "from scipy.stats import ttest_ind, mannwhitneyu"
   ]
  },
  {
   "cell_type": "code",
   "execution_count": 47,
   "id": "526697ad-3b88-4c67-8b2b-8d8a98db0c69",
   "metadata": {},
   "outputs": [],
   "source": [
    "## 1.Импорт и анализ таблиц"
   ]
  },
  {
   "cell_type": "code",
   "execution_count": 48,
   "id": "e934748d-1471-4a30-afd0-c6779737dbef",
   "metadata": {},
   "outputs": [],
   "source": [
    "df_orders = pd.read_excel(\"Новый диплом датасет.xlsx\", sheet_name =\"Данные\")\n",
    "df_clients = pd. read_excel(\"Новый диплом датасет.xlsx\", sheet_name =\"Clients\")\n",
    "df_reg = pd. read_excel(\"Новый диплом датасет.xlsx\", sheet_name =\"Region_dict\")"
   ]
  },
  {
   "cell_type": "code",
   "execution_count": 49,
   "id": "0e59cdc1-183d-490a-aad9-9d80abe1a8fa",
   "metadata": {},
   "outputs": [
    {
     "data": {
      "text/html": [
       "<div>\n",
       "<style scoped>\n",
       "    .dataframe tbody tr th:only-of-type {\n",
       "        vertical-align: middle;\n",
       "    }\n",
       "\n",
       "    .dataframe tbody tr th {\n",
       "        vertical-align: top;\n",
       "    }\n",
       "\n",
       "    .dataframe thead th {\n",
       "        text-align: right;\n",
       "    }\n",
       "</style>\n",
       "<table border=\"1\" class=\"dataframe\">\n",
       "  <thead>\n",
       "    <tr style=\"text-align: right;\">\n",
       "      <th></th>\n",
       "      <th>id_order</th>\n",
       "      <th>id_client</th>\n",
       "      <th>amt_payment</th>\n",
       "      <th>dtime_pay</th>\n",
       "    </tr>\n",
       "  </thead>\n",
       "  <tbody>\n",
       "    <tr>\n",
       "      <th>0</th>\n",
       "      <td>162295</td>\n",
       "      <td>203943.0</td>\n",
       "      <td>2802.0</td>\n",
       "      <td>2022-10-17 20:38:22.304000</td>\n",
       "    </tr>\n",
       "    <tr>\n",
       "      <th>1</th>\n",
       "      <td>185621</td>\n",
       "      <td>206742.0</td>\n",
       "      <td>4404.0</td>\n",
       "      <td>2022-12-13 09:47:43.880000</td>\n",
       "    </tr>\n",
       "    <tr>\n",
       "      <th>2</th>\n",
       "      <td>267875</td>\n",
       "      <td>183601.0</td>\n",
       "      <td>5192.0</td>\n",
       "      <td>2022-09-07 11:14:52.440000</td>\n",
       "    </tr>\n",
       "    <tr>\n",
       "      <th>3</th>\n",
       "      <td>173557</td>\n",
       "      <td>203446.0</td>\n",
       "      <td>2438.0</td>\n",
       "      <td>2022-09-07 08:23:40.021000</td>\n",
       "    </tr>\n",
       "    <tr>\n",
       "      <th>4</th>\n",
       "      <td>239130</td>\n",
       "      <td>188188.0</td>\n",
       "      <td>2488.0</td>\n",
       "      <td>2022-09-06 00:16:37.306000</td>\n",
       "    </tr>\n",
       "  </tbody>\n",
       "</table>\n",
       "</div>"
      ],
      "text/plain": [
       "   id_order  id_client  amt_payment                   dtime_pay\n",
       "0    162295   203943.0       2802.0  2022-10-17 20:38:22.304000\n",
       "1    185621   206742.0       4404.0  2022-12-13 09:47:43.880000\n",
       "2    267875   183601.0       5192.0  2022-09-07 11:14:52.440000\n",
       "3    173557   203446.0       2438.0  2022-09-07 08:23:40.021000\n",
       "4    239130   188188.0       2488.0  2022-09-06 00:16:37.306000"
      ]
     },
     "execution_count": 49,
     "metadata": {},
     "output_type": "execute_result"
    }
   ],
   "source": [
    "df_orders.head(5)"
   ]
  },
  {
   "cell_type": "code",
   "execution_count": 50,
   "id": "adee46fd-0584-4305-bf74-b5570482adbd",
   "metadata": {},
   "outputs": [
    {
     "data": {
      "text/html": [
       "<div>\n",
       "<style scoped>\n",
       "    .dataframe tbody tr th:only-of-type {\n",
       "        vertical-align: middle;\n",
       "    }\n",
       "\n",
       "    .dataframe tbody tr th {\n",
       "        vertical-align: top;\n",
       "    }\n",
       "\n",
       "    .dataframe thead th {\n",
       "        text-align: right;\n",
       "    }\n",
       "</style>\n",
       "<table border=\"1\" class=\"dataframe\">\n",
       "  <thead>\n",
       "    <tr style=\"text-align: right;\">\n",
       "      <th></th>\n",
       "      <th>id_client</th>\n",
       "      <th>dtime_ad</th>\n",
       "      <th>nflag_test</th>\n",
       "      <th>id_trading_point</th>\n",
       "    </tr>\n",
       "  </thead>\n",
       "  <tbody>\n",
       "    <tr>\n",
       "      <th>0</th>\n",
       "      <td>180844</td>\n",
       "      <td>2022-06-08 18:38:41.414</td>\n",
       "      <td>0</td>\n",
       "      <td>212</td>\n",
       "    </tr>\n",
       "    <tr>\n",
       "      <th>1</th>\n",
       "      <td>193942</td>\n",
       "      <td>NaT</td>\n",
       "      <td>0</td>\n",
       "      <td>13</td>\n",
       "    </tr>\n",
       "    <tr>\n",
       "      <th>2</th>\n",
       "      <td>226069</td>\n",
       "      <td>2022-07-11 16:28:38.511</td>\n",
       "      <td>1</td>\n",
       "      <td>54</td>\n",
       "    </tr>\n",
       "    <tr>\n",
       "      <th>3</th>\n",
       "      <td>183981</td>\n",
       "      <td>2022-06-16 12:23:59.289</td>\n",
       "      <td>1</td>\n",
       "      <td>991</td>\n",
       "    </tr>\n",
       "    <tr>\n",
       "      <th>4</th>\n",
       "      <td>322530</td>\n",
       "      <td>2022-07-08 08:56:08.714</td>\n",
       "      <td>0</td>\n",
       "      <td>1015</td>\n",
       "    </tr>\n",
       "  </tbody>\n",
       "</table>\n",
       "</div>"
      ],
      "text/plain": [
       "   id_client                dtime_ad  nflag_test  id_trading_point\n",
       "0     180844 2022-06-08 18:38:41.414           0               212\n",
       "1     193942                     NaT           0                13\n",
       "2     226069 2022-07-11 16:28:38.511           1                54\n",
       "3     183981 2022-06-16 12:23:59.289           1               991\n",
       "4     322530 2022-07-08 08:56:08.714           0              1015"
      ]
     },
     "execution_count": 50,
     "metadata": {},
     "output_type": "execute_result"
    }
   ],
   "source": [
    "df_clients.head(5)"
   ]
  },
  {
   "cell_type": "code",
   "execution_count": 51,
   "id": "328526a0-79ad-4482-a1cd-bcb6b7077cc0",
   "metadata": {},
   "outputs": [
    {
     "data": {
      "text/html": [
       "<div>\n",
       "<style scoped>\n",
       "    .dataframe tbody tr th:only-of-type {\n",
       "        vertical-align: middle;\n",
       "    }\n",
       "\n",
       "    .dataframe tbody tr th {\n",
       "        vertical-align: top;\n",
       "    }\n",
       "\n",
       "    .dataframe thead th {\n",
       "        text-align: right;\n",
       "    }\n",
       "</style>\n",
       "<table border=\"1\" class=\"dataframe\">\n",
       "  <thead>\n",
       "    <tr style=\"text-align: right;\">\n",
       "      <th></th>\n",
       "      <th>id_trading_point</th>\n",
       "      <th>city</th>\n",
       "    </tr>\n",
       "  </thead>\n",
       "  <tbody>\n",
       "    <tr>\n",
       "      <th>0</th>\n",
       "      <td>1</td>\n",
       "      <td>Петрозаводск</td>\n",
       "    </tr>\n",
       "    <tr>\n",
       "      <th>1</th>\n",
       "      <td>2</td>\n",
       "      <td>Дмитров</td>\n",
       "    </tr>\n",
       "    <tr>\n",
       "      <th>2</th>\n",
       "      <td>4</td>\n",
       "      <td>Чехов</td>\n",
       "    </tr>\n",
       "    <tr>\n",
       "      <th>3</th>\n",
       "      <td>7</td>\n",
       "      <td>Ростов Великий</td>\n",
       "    </tr>\n",
       "    <tr>\n",
       "      <th>4</th>\n",
       "      <td>11</td>\n",
       "      <td>Владимир</td>\n",
       "    </tr>\n",
       "  </tbody>\n",
       "</table>\n",
       "</div>"
      ],
      "text/plain": [
       "   id_trading_point            city\n",
       "0                 1    Петрозаводск\n",
       "1                 2         Дмитров\n",
       "2                 4           Чехов\n",
       "3                 7  Ростов Великий\n",
       "4                11        Владимир"
      ]
     },
     "execution_count": 51,
     "metadata": {},
     "output_type": "execute_result"
    }
   ],
   "source": [
    "df_reg.head(5)"
   ]
  },
  {
   "cell_type": "code",
   "execution_count": 52,
   "id": "c7166ccc-3075-4cda-9904-cfdaadea2f82",
   "metadata": {},
   "outputs": [
    {
     "data": {
      "text/html": [
       "<div>\n",
       "<style scoped>\n",
       "    .dataframe tbody tr th:only-of-type {\n",
       "        vertical-align: middle;\n",
       "    }\n",
       "\n",
       "    .dataframe tbody tr th {\n",
       "        vertical-align: top;\n",
       "    }\n",
       "\n",
       "    .dataframe thead th {\n",
       "        text-align: right;\n",
       "    }\n",
       "</style>\n",
       "<table border=\"1\" class=\"dataframe\">\n",
       "  <thead>\n",
       "    <tr style=\"text-align: right;\">\n",
       "      <th></th>\n",
       "      <th>id_order</th>\n",
       "      <th>id_client</th>\n",
       "      <th>amt_payment</th>\n",
       "    </tr>\n",
       "  </thead>\n",
       "  <tbody>\n",
       "    <tr>\n",
       "      <th>count</th>\n",
       "      <td>38691.000000</td>\n",
       "      <td>38103.000000</td>\n",
       "      <td>36536.000000</td>\n",
       "    </tr>\n",
       "    <tr>\n",
       "      <th>mean</th>\n",
       "      <td>198845.382544</td>\n",
       "      <td>194087.384720</td>\n",
       "      <td>3540.766203</td>\n",
       "    </tr>\n",
       "    <tr>\n",
       "      <th>std</th>\n",
       "      <td>57156.443394</td>\n",
       "      <td>8973.986378</td>\n",
       "      <td>1427.298727</td>\n",
       "    </tr>\n",
       "    <tr>\n",
       "      <th>min</th>\n",
       "      <td>100238.000000</td>\n",
       "      <td>178561.000000</td>\n",
       "      <td>498.000000</td>\n",
       "    </tr>\n",
       "    <tr>\n",
       "      <th>25%</th>\n",
       "      <td>149286.500000</td>\n",
       "      <td>186346.500000</td>\n",
       "      <td>2579.000000</td>\n",
       "    </tr>\n",
       "    <tr>\n",
       "      <th>50%</th>\n",
       "      <td>198972.000000</td>\n",
       "      <td>194077.000000</td>\n",
       "      <td>3468.000000</td>\n",
       "    </tr>\n",
       "    <tr>\n",
       "      <th>75%</th>\n",
       "      <td>248424.500000</td>\n",
       "      <td>201842.500000</td>\n",
       "      <td>4387.000000</td>\n",
       "    </tr>\n",
       "    <tr>\n",
       "      <th>max</th>\n",
       "      <td>297607.000000</td>\n",
       "      <td>209634.000000</td>\n",
       "      <td>7633.000000</td>\n",
       "    </tr>\n",
       "  </tbody>\n",
       "</table>\n",
       "</div>"
      ],
      "text/plain": [
       "            id_order      id_client   amt_payment\n",
       "count   38691.000000   38103.000000  36536.000000\n",
       "mean   198845.382544  194087.384720   3540.766203\n",
       "std     57156.443394    8973.986378   1427.298727\n",
       "min    100238.000000  178561.000000    498.000000\n",
       "25%    149286.500000  186346.500000   2579.000000\n",
       "50%    198972.000000  194077.000000   3468.000000\n",
       "75%    248424.500000  201842.500000   4387.000000\n",
       "max    297607.000000  209634.000000   7633.000000"
      ]
     },
     "execution_count": 52,
     "metadata": {},
     "output_type": "execute_result"
    }
   ],
   "source": [
    "df_orders.describe()"
   ]
  },
  {
   "cell_type": "code",
   "execution_count": 53,
   "id": "6c2c14db-43d9-43c5-81c7-7fe605bfdbe6",
   "metadata": {},
   "outputs": [
    {
     "data": {
      "text/html": [
       "<div>\n",
       "<style scoped>\n",
       "    .dataframe tbody tr th:only-of-type {\n",
       "        vertical-align: middle;\n",
       "    }\n",
       "\n",
       "    .dataframe tbody tr th {\n",
       "        vertical-align: top;\n",
       "    }\n",
       "\n",
       "    .dataframe thead th {\n",
       "        text-align: right;\n",
       "    }\n",
       "</style>\n",
       "<table border=\"1\" class=\"dataframe\">\n",
       "  <thead>\n",
       "    <tr style=\"text-align: right;\">\n",
       "      <th></th>\n",
       "      <th>id_client</th>\n",
       "      <th>nflag_test</th>\n",
       "      <th>id_trading_point</th>\n",
       "    </tr>\n",
       "  </thead>\n",
       "  <tbody>\n",
       "    <tr>\n",
       "      <th>count</th>\n",
       "      <td>55605.000000</td>\n",
       "      <td>55605.000000</td>\n",
       "      <td>55605.000000</td>\n",
       "    </tr>\n",
       "    <tr>\n",
       "      <th>mean</th>\n",
       "      <td>227974.818344</td>\n",
       "      <td>0.463879</td>\n",
       "      <td>1095.527363</td>\n",
       "    </tr>\n",
       "    <tr>\n",
       "      <th>std</th>\n",
       "      <td>45272.325725</td>\n",
       "      <td>0.498698</td>\n",
       "      <td>1642.650476</td>\n",
       "    </tr>\n",
       "    <tr>\n",
       "      <th>min</th>\n",
       "      <td>178561.000000</td>\n",
       "      <td>0.000000</td>\n",
       "      <td>1.000000</td>\n",
       "    </tr>\n",
       "    <tr>\n",
       "      <th>25%</th>\n",
       "      <td>192462.000000</td>\n",
       "      <td>0.000000</td>\n",
       "      <td>112.000000</td>\n",
       "    </tr>\n",
       "    <tr>\n",
       "      <th>50%</th>\n",
       "      <td>206364.000000</td>\n",
       "      <td>0.000000</td>\n",
       "      <td>516.000000</td>\n",
       "    </tr>\n",
       "    <tr>\n",
       "      <th>75%</th>\n",
       "      <td>262665.000000</td>\n",
       "      <td>1.000000</td>\n",
       "      <td>1101.000000</td>\n",
       "    </tr>\n",
       "    <tr>\n",
       "      <th>max</th>\n",
       "      <td>331964.000000</td>\n",
       "      <td>1.000000</td>\n",
       "      <td>9931.000000</td>\n",
       "    </tr>\n",
       "  </tbody>\n",
       "</table>\n",
       "</div>"
      ],
      "text/plain": [
       "           id_client    nflag_test  id_trading_point\n",
       "count   55605.000000  55605.000000      55605.000000\n",
       "mean   227974.818344      0.463879       1095.527363\n",
       "std     45272.325725      0.498698       1642.650476\n",
       "min    178561.000000      0.000000          1.000000\n",
       "25%    192462.000000      0.000000        112.000000\n",
       "50%    206364.000000      0.000000        516.000000\n",
       "75%    262665.000000      1.000000       1101.000000\n",
       "max    331964.000000      1.000000       9931.000000"
      ]
     },
     "execution_count": 53,
     "metadata": {},
     "output_type": "execute_result"
    }
   ],
   "source": [
    "df_clients.describe()"
   ]
  },
  {
   "cell_type": "code",
   "execution_count": 54,
   "id": "0de99aa6-6d09-412e-9170-50100323d776",
   "metadata": {},
   "outputs": [
    {
     "data": {
      "text/html": [
       "<div>\n",
       "<style scoped>\n",
       "    .dataframe tbody tr th:only-of-type {\n",
       "        vertical-align: middle;\n",
       "    }\n",
       "\n",
       "    .dataframe tbody tr th {\n",
       "        vertical-align: top;\n",
       "    }\n",
       "\n",
       "    .dataframe thead th {\n",
       "        text-align: right;\n",
       "    }\n",
       "</style>\n",
       "<table border=\"1\" class=\"dataframe\">\n",
       "  <thead>\n",
       "    <tr style=\"text-align: right;\">\n",
       "      <th></th>\n",
       "      <th>id_trading_point</th>\n",
       "    </tr>\n",
       "  </thead>\n",
       "  <tbody>\n",
       "    <tr>\n",
       "      <th>count</th>\n",
       "      <td>66.000000</td>\n",
       "    </tr>\n",
       "    <tr>\n",
       "      <th>mean</th>\n",
       "      <td>1080.530303</td>\n",
       "    </tr>\n",
       "    <tr>\n",
       "      <th>std</th>\n",
       "      <td>2093.571422</td>\n",
       "    </tr>\n",
       "    <tr>\n",
       "      <th>min</th>\n",
       "      <td>1.000000</td>\n",
       "    </tr>\n",
       "    <tr>\n",
       "      <th>25%</th>\n",
       "      <td>66.750000</td>\n",
       "    </tr>\n",
       "    <tr>\n",
       "      <th>50%</th>\n",
       "      <td>416.500000</td>\n",
       "    </tr>\n",
       "    <tr>\n",
       "      <th>75%</th>\n",
       "      <td>897.750000</td>\n",
       "    </tr>\n",
       "    <tr>\n",
       "      <th>max</th>\n",
       "      <td>9931.000000</td>\n",
       "    </tr>\n",
       "  </tbody>\n",
       "</table>\n",
       "</div>"
      ],
      "text/plain": [
       "       id_trading_point\n",
       "count         66.000000\n",
       "mean        1080.530303\n",
       "std         2093.571422\n",
       "min            1.000000\n",
       "25%           66.750000\n",
       "50%          416.500000\n",
       "75%          897.750000\n",
       "max         9931.000000"
      ]
     },
     "execution_count": 54,
     "metadata": {},
     "output_type": "execute_result"
    }
   ],
   "source": [
    "df_reg.describe()"
   ]
  },
  {
   "cell_type": "code",
   "execution_count": 55,
   "id": "2c09a93b-4c43-4cc0-912e-6f4f0e7635dc",
   "metadata": {},
   "outputs": [
    {
     "name": "stdout",
     "output_type": "stream",
     "text": [
      "<class 'pandas.core.frame.DataFrame'>\n",
      "RangeIndex: 38691 entries, 0 to 38690\n",
      "Data columns (total 4 columns):\n",
      " #   Column       Non-Null Count  Dtype  \n",
      "---  ------       --------------  -----  \n",
      " 0   id_order     38691 non-null  int64  \n",
      " 1   id_client    38103 non-null  float64\n",
      " 2   amt_payment  36536 non-null  float64\n",
      " 3   dtime_pay    36519 non-null  object \n",
      "dtypes: float64(2), int64(1), object(1)\n",
      "memory usage: 1.2+ MB\n"
     ]
    }
   ],
   "source": [
    "df_orders.info()"
   ]
  },
  {
   "cell_type": "code",
   "execution_count": 56,
   "id": "d6b6f140-fe83-466a-8ca0-35692982aa96",
   "metadata": {},
   "outputs": [
    {
     "name": "stdout",
     "output_type": "stream",
     "text": [
      "<class 'pandas.core.frame.DataFrame'>\n",
      "RangeIndex: 55605 entries, 0 to 55604\n",
      "Data columns (total 4 columns):\n",
      " #   Column            Non-Null Count  Dtype         \n",
      "---  ------            --------------  -----         \n",
      " 0   id_client         55605 non-null  int64         \n",
      " 1   dtime_ad          55356 non-null  datetime64[ns]\n",
      " 2   nflag_test        55605 non-null  int64         \n",
      " 3   id_trading_point  55605 non-null  int64         \n",
      "dtypes: datetime64[ns](1), int64(3)\n",
      "memory usage: 1.7 MB\n"
     ]
    }
   ],
   "source": [
    "df_clients.info()"
   ]
  },
  {
   "cell_type": "code",
   "execution_count": 57,
   "id": "07d6481a-8d09-43d2-aeed-98ccbb164b96",
   "metadata": {},
   "outputs": [
    {
     "name": "stdout",
     "output_type": "stream",
     "text": [
      "<class 'pandas.core.frame.DataFrame'>\n",
      "RangeIndex: 66 entries, 0 to 65\n",
      "Data columns (total 2 columns):\n",
      " #   Column            Non-Null Count  Dtype \n",
      "---  ------            --------------  ----- \n",
      " 0   id_trading_point  66 non-null     int64 \n",
      " 1   city              66 non-null     object\n",
      "dtypes: int64(1), object(1)\n",
      "memory usage: 1.2+ KB\n"
     ]
    }
   ],
   "source": [
    "df_reg.info()"
   ]
  },
  {
   "cell_type": "code",
   "execution_count": 58,
   "id": "dc1dace6-f132-4afc-afb5-21311a319301",
   "metadata": {},
   "outputs": [],
   "source": [
    "df_orders = df_orders[~((df_orders['id_client'].isnull())|(df_orders['amt_payment'].isnull())|(df_orders['dtime_pay'].isnull()))]"
   ]
  },
  {
   "cell_type": "code",
   "execution_count": 59,
   "id": "09324fac-9677-49d2-a857-4773263374b8",
   "metadata": {},
   "outputs": [
    {
     "data": {
      "text/plain": [
       "id_order       False\n",
       "id_client      False\n",
       "amt_payment    False\n",
       "dtime_pay      False\n",
       "dtype: bool"
      ]
     },
     "execution_count": 59,
     "metadata": {},
     "output_type": "execute_result"
    }
   ],
   "source": [
    "df_orders.isnull().any()"
   ]
  },
  {
   "cell_type": "code",
   "execution_count": 60,
   "id": "baffa0b0-e8c6-4aff-b73f-17055915b64b",
   "metadata": {},
   "outputs": [
    {
     "data": {
      "text/plain": [
       "id_client           False\n",
       "dtime_ad            False\n",
       "nflag_test          False\n",
       "id_trading_point    False\n",
       "dtype: bool"
      ]
     },
     "execution_count": 60,
     "metadata": {},
     "output_type": "execute_result"
    }
   ],
   "source": [
    "df_clients = df_clients[~((df_clients['dtime_ad'].isnull())|(df_clients['nflag_test'].isnull())|( df_clients['id_trading_point'].isnull()))]\n",
    "df_clients.isnull().any()"
   ]
  },
  {
   "cell_type": "code",
   "execution_count": 61,
   "id": "f5ae418e-c5f3-477c-9e5c-ba07ce1538a0",
   "metadata": {},
   "outputs": [
    {
     "data": {
      "text/plain": [
       "id_trading_point    False\n",
       "city                False\n",
       "dtype: bool"
      ]
     },
     "execution_count": 61,
     "metadata": {},
     "output_type": "execute_result"
    }
   ],
   "source": [
    "df_reg.isnull().any()"
   ]
  },
  {
   "cell_type": "code",
   "execution_count": 62,
   "id": "e96c28d2-ee72-48fd-8364-7ef4b3de0736",
   "metadata": {},
   "outputs": [],
   "source": [
    "df_reg_gr =df_reg.groupby('city').count()['id_trading_point'].reset_index().sort_values(by='id_trading_point', ascending= False)"
   ]
  },
  {
   "cell_type": "code",
   "execution_count": 63,
   "id": "75b94c28-7d7a-4b7a-9076-b195df299d15",
   "metadata": {},
   "outputs": [
    {
     "data": {
      "image/png": "[encoded data removed]",
      "text/plain": [
       "<Figure size 432x288 with 1 Axes>"
      ]
     },
     "metadata": {
      "needs_background": "light"
     },
     "output_type": "display_data"
    }
   ],
   "source": [
    "plt.bar (df_reg_gr['city'],df_reg_gr['id_trading_point'])\n",
    "plt.xticks(rotation=80)\n",
    "plt.show()"
   ]
  },
  {
   "cell_type": "code",
   "execution_count": 64,
   "id": "f8453d12-c6fd-4f3a-9419-77436852e797",
   "metadata": {},
   "outputs": [],
   "source": [
    "## 2.Объединение таблиц"
   ]
  },
  {
   "cell_type": "code",
   "execution_count": 65,
   "id": "27c38799-0292-4be2-9e05-edebc9f8e9cd",
   "metadata": {},
   "outputs": [
    {
     "data": {
      "text/html": [
       "<div>\n",
       "<style scoped>\n",
       "    .dataframe tbody tr th:only-of-type {\n",
       "        vertical-align: middle;\n",
       "    }\n",
       "\n",
       "    .dataframe tbody tr th {\n",
       "        vertical-align: top;\n",
       "    }\n",
       "\n",
       "    .dataframe thead th {\n",
       "        text-align: right;\n",
       "    }\n",
       "</style>\n",
       "<table border=\"1\" class=\"dataframe\">\n",
       "  <thead>\n",
       "    <tr style=\"text-align: right;\">\n",
       "      <th></th>\n",
       "      <th>id_order</th>\n",
       "      <th>id_client</th>\n",
       "      <th>amt_payment</th>\n",
       "      <th>dtime_pay</th>\n",
       "      <th>dtime_ad</th>\n",
       "      <th>nflag_test</th>\n",
       "      <th>id_trading_point</th>\n",
       "      <th>city</th>\n",
       "    </tr>\n",
       "  </thead>\n",
       "  <tbody>\n",
       "    <tr>\n",
       "      <th>0</th>\n",
       "      <td>162295.0</td>\n",
       "      <td>203943.0</td>\n",
       "      <td>2802.0</td>\n",
       "      <td>2022-10-17 20:38:22.304000</td>\n",
       "      <td>2022-08-05 09:09:24.385</td>\n",
       "      <td>0.0</td>\n",
       "      <td>1654.0</td>\n",
       "      <td>Москва</td>\n",
       "    </tr>\n",
       "    <tr>\n",
       "      <th>1</th>\n",
       "      <td>187294.0</td>\n",
       "      <td>203943.0</td>\n",
       "      <td>3533.0</td>\n",
       "      <td>2022-11-09 23:10:52.843000</td>\n",
       "      <td>2022-08-05 09:09:24.385</td>\n",
       "      <td>0.0</td>\n",
       "      <td>1654.0</td>\n",
       "      <td>Москва</td>\n",
       "    </tr>\n",
       "    <tr>\n",
       "      <th>2</th>\n",
       "      <td>195611.0</td>\n",
       "      <td>203943.0</td>\n",
       "      <td>5894.0</td>\n",
       "      <td>2022-09-05 00:52:09.084000</td>\n",
       "      <td>2022-08-05 09:09:24.385</td>\n",
       "      <td>0.0</td>\n",
       "      <td>1654.0</td>\n",
       "      <td>Москва</td>\n",
       "    </tr>\n",
       "    <tr>\n",
       "      <th>3</th>\n",
       "      <td>216912.0</td>\n",
       "      <td>190290.0</td>\n",
       "      <td>2592.0</td>\n",
       "      <td>2022-10-05 08:54:19.040000</td>\n",
       "      <td>2022-07-02 04:12:44.518</td>\n",
       "      <td>0.0</td>\n",
       "      <td>1654.0</td>\n",
       "      <td>Москва</td>\n",
       "    </tr>\n",
       "    <tr>\n",
       "      <th>4</th>\n",
       "      <td>164710.0</td>\n",
       "      <td>189131.0</td>\n",
       "      <td>899.0</td>\n",
       "      <td>2022-08-06 01:27:54.690000</td>\n",
       "      <td>2022-06-29 07:22:48.384</td>\n",
       "      <td>0.0</td>\n",
       "      <td>1654.0</td>\n",
       "      <td>Москва</td>\n",
       "    </tr>\n",
       "    <tr>\n",
       "      <th>...</th>\n",
       "      <td>...</td>\n",
       "      <td>...</td>\n",
       "      <td>...</td>\n",
       "      <td>...</td>\n",
       "      <td>...</td>\n",
       "      <td>...</td>\n",
       "      <td>...</td>\n",
       "      <td>...</td>\n",
       "    </tr>\n",
       "    <tr>\n",
       "      <th>62800</th>\n",
       "      <td>NaN</td>\n",
       "      <td>287702.0</td>\n",
       "      <td>0.0</td>\n",
       "      <td>NaN</td>\n",
       "      <td>2022-06-16 04:48:54.608</td>\n",
       "      <td>1.0</td>\n",
       "      <td>13.0</td>\n",
       "      <td>Нижний Новгород</td>\n",
       "    </tr>\n",
       "    <tr>\n",
       "      <th>62801</th>\n",
       "      <td>NaN</td>\n",
       "      <td>264861.0</td>\n",
       "      <td>0.0</td>\n",
       "      <td>NaN</td>\n",
       "      <td>2022-08-02 15:19:29.105</td>\n",
       "      <td>1.0</td>\n",
       "      <td>13.0</td>\n",
       "      <td>Нижний Новгород</td>\n",
       "    </tr>\n",
       "    <tr>\n",
       "      <th>62802</th>\n",
       "      <td>NaN</td>\n",
       "      <td>313035.0</td>\n",
       "      <td>0.0</td>\n",
       "      <td>NaN</td>\n",
       "      <td>2022-07-04 06:41:10.203</td>\n",
       "      <td>0.0</td>\n",
       "      <td>13.0</td>\n",
       "      <td>Нижний Новгород</td>\n",
       "    </tr>\n",
       "    <tr>\n",
       "      <th>62803</th>\n",
       "      <td>NaN</td>\n",
       "      <td>312740.0</td>\n",
       "      <td>0.0</td>\n",
       "      <td>NaN</td>\n",
       "      <td>2022-06-11 17:49:49.701</td>\n",
       "      <td>1.0</td>\n",
       "      <td>13.0</td>\n",
       "      <td>Нижний Новгород</td>\n",
       "    </tr>\n",
       "    <tr>\n",
       "      <th>62804</th>\n",
       "      <td>NaN</td>\n",
       "      <td>328442.0</td>\n",
       "      <td>0.0</td>\n",
       "      <td>NaN</td>\n",
       "      <td>2022-06-22 13:10:41.850</td>\n",
       "      <td>1.0</td>\n",
       "      <td>13.0</td>\n",
       "      <td>Нижний Новгород</td>\n",
       "    </tr>\n",
       "  </tbody>\n",
       "</table>\n",
       "<p>62805 rows × 8 columns</p>\n",
       "</div>"
      ],
      "text/plain": [
       "       id_order  id_client  amt_payment                   dtime_pay  \\\n",
       "0      162295.0   203943.0       2802.0  2022-10-17 20:38:22.304000   \n",
       "1      187294.0   203943.0       3533.0  2022-11-09 23:10:52.843000   \n",
       "2      195611.0   203943.0       5894.0  2022-09-05 00:52:09.084000   \n",
       "3      216912.0   190290.0       2592.0  2022-10-05 08:54:19.040000   \n",
       "4      164710.0   189131.0        899.0  2022-08-06 01:27:54.690000   \n",
       "...         ...        ...          ...                         ...   \n",
       "62800       NaN   287702.0          0.0                         NaN   \n",
       "62801       NaN   264861.0          0.0                         NaN   \n",
       "62802       NaN   313035.0          0.0                         NaN   \n",
       "62803       NaN   312740.0          0.0                         NaN   \n",
       "62804       NaN   328442.0          0.0                         NaN   \n",
       "\n",
       "                     dtime_ad  nflag_test  id_trading_point             city  \n",
       "0     2022-08-05 09:09:24.385         0.0            1654.0           Москва  \n",
       "1     2022-08-05 09:09:24.385         0.0            1654.0           Москва  \n",
       "2     2022-08-05 09:09:24.385         0.0            1654.0           Москва  \n",
       "3     2022-07-02 04:12:44.518         0.0            1654.0           Москва  \n",
       "4     2022-06-29 07:22:48.384         0.0            1654.0           Москва  \n",
       "...                       ...         ...               ...              ...  \n",
       "62800 2022-06-16 04:48:54.608         1.0              13.0  Нижний Новгород  \n",
       "62801 2022-08-02 15:19:29.105         1.0              13.0  Нижний Новгород  \n",
       "62802 2022-07-04 06:41:10.203         0.0              13.0  Нижний Новгород  \n",
       "62803 2022-06-11 17:49:49.701         1.0              13.0  Нижний Новгород  \n",
       "62804 2022-06-22 13:10:41.850         1.0              13.0  Нижний Новгород  \n",
       "\n",
       "[62805 rows x 8 columns]"
      ]
     },
     "execution_count": 65,
     "metadata": {},
     "output_type": "execute_result"
    }
   ],
   "source": [
    "df=df_orders.merge(df_clients, on = 'id_client', how = 'outer')\n",
    "df=df.merge(df_reg, on = 'id_trading_point')\n",
    "df['amt_payment']= df['amt_payment'].fillna(0)\n",
    "df"
   ]
  },
  {
   "cell_type": "code",
   "execution_count": 66,
   "id": "de1ac54d-e635-48df-8bfb-23aff15d74e4",
   "metadata": {},
   "outputs": [
    {
     "data": {
      "text/html": [
       "<div>\n",
       "<style scoped>\n",
       "    .dataframe tbody tr th:only-of-type {\n",
       "        vertical-align: middle;\n",
       "    }\n",
       "\n",
       "    .dataframe tbody tr th {\n",
       "        vertical-align: top;\n",
       "    }\n",
       "\n",
       "    .dataframe thead th {\n",
       "        text-align: right;\n",
       "    }\n",
       "</style>\n",
       "<table border=\"1\" class=\"dataframe\">\n",
       "  <thead>\n",
       "    <tr style=\"text-align: right;\">\n",
       "      <th></th>\n",
       "      <th>id_client</th>\n",
       "      <th>id_trading_point</th>\n",
       "      <th>city</th>\n",
       "      <th>id_order</th>\n",
       "      <th>amt_payment</th>\n",
       "    </tr>\n",
       "  </thead>\n",
       "  <tbody>\n",
       "    <tr>\n",
       "      <th>0</th>\n",
       "      <td>178561.0</td>\n",
       "      <td>453.0</td>\n",
       "      <td>Санкт-Петербург</td>\n",
       "      <td>1</td>\n",
       "      <td>3052.0</td>\n",
       "    </tr>\n",
       "    <tr>\n",
       "      <th>1</th>\n",
       "      <td>178562.0</td>\n",
       "      <td>2652.0</td>\n",
       "      <td>Москва</td>\n",
       "      <td>1</td>\n",
       "      <td>2439.0</td>\n",
       "    </tr>\n",
       "    <tr>\n",
       "      <th>2</th>\n",
       "      <td>178563.0</td>\n",
       "      <td>112.0</td>\n",
       "      <td>Санкт-Петербург</td>\n",
       "      <td>1</td>\n",
       "      <td>768.0</td>\n",
       "    </tr>\n",
       "    <tr>\n",
       "      <th>3</th>\n",
       "      <td>178564.0</td>\n",
       "      <td>26.0</td>\n",
       "      <td>Ростов-на-Дону</td>\n",
       "      <td>0</td>\n",
       "      <td>0.0</td>\n",
       "    </tr>\n",
       "    <tr>\n",
       "      <th>4</th>\n",
       "      <td>178565.0</td>\n",
       "      <td>739.0</td>\n",
       "      <td>Новосибирск</td>\n",
       "      <td>1</td>\n",
       "      <td>958.0</td>\n",
       "    </tr>\n",
       "    <tr>\n",
       "      <th>...</th>\n",
       "      <td>...</td>\n",
       "      <td>...</td>\n",
       "      <td>...</td>\n",
       "      <td>...</td>\n",
       "      <td>...</td>\n",
       "    </tr>\n",
       "    <tr>\n",
       "      <th>55351</th>\n",
       "      <td>331949.0</td>\n",
       "      <td>573.0</td>\n",
       "      <td>Санкт-Петербург</td>\n",
       "      <td>0</td>\n",
       "      <td>0.0</td>\n",
       "    </tr>\n",
       "    <tr>\n",
       "      <th>55352</th>\n",
       "      <td>331950.0</td>\n",
       "      <td>1654.0</td>\n",
       "      <td>Москва</td>\n",
       "      <td>0</td>\n",
       "      <td>0.0</td>\n",
       "    </tr>\n",
       "    <tr>\n",
       "      <th>55353</th>\n",
       "      <td>331954.0</td>\n",
       "      <td>544.0</td>\n",
       "      <td>Казань</td>\n",
       "      <td>0</td>\n",
       "      <td>0.0</td>\n",
       "    </tr>\n",
       "    <tr>\n",
       "      <th>55354</th>\n",
       "      <td>331955.0</td>\n",
       "      <td>72.0</td>\n",
       "      <td>Сочи</td>\n",
       "      <td>0</td>\n",
       "      <td>0.0</td>\n",
       "    </tr>\n",
       "    <tr>\n",
       "      <th>55355</th>\n",
       "      <td>331964.0</td>\n",
       "      <td>202.0</td>\n",
       "      <td>Красноярск</td>\n",
       "      <td>0</td>\n",
       "      <td>0.0</td>\n",
       "    </tr>\n",
       "  </tbody>\n",
       "</table>\n",
       "<p>55356 rows × 5 columns</p>\n",
       "</div>"
      ],
      "text/plain": [
       "       id_client  id_trading_point             city  id_order  amt_payment\n",
       "0       178561.0             453.0  Санкт-Петербург         1       3052.0\n",
       "1       178562.0            2652.0           Москва         1       2439.0\n",
       "2       178563.0             112.0  Санкт-Петербург         1        768.0\n",
       "3       178564.0              26.0   Ростов-на-Дону         0          0.0\n",
       "4       178565.0             739.0      Новосибирск         1        958.0\n",
       "...          ...               ...              ...       ...          ...\n",
       "55351   331949.0             573.0  Санкт-Петербург         0          0.0\n",
       "55352   331950.0            1654.0           Москва         0          0.0\n",
       "55353   331954.0             544.0           Казань         0          0.0\n",
       "55354   331955.0              72.0             Сочи         0          0.0\n",
       "55355   331964.0             202.0       Красноярск         0          0.0\n",
       "\n",
       "[55356 rows x 5 columns]"
      ]
     },
     "execution_count": 66,
     "metadata": {},
     "output_type": "execute_result"
    }
   ],
   "source": [
    "df_cl = df.groupby(['id_client','id_trading_point','city']).agg({'id_order':'count','amt_payment':'sum'}).reset_index()\n",
    "df_cl"
   ]
  },
  {
   "cell_type": "code",
   "execution_count": 67,
   "id": "5d761630-bb6d-436c-9bd6-a7e551534ab5",
   "metadata": {},
   "outputs": [
    {
     "data": {
      "text/html": [
       "<div>\n",
       "<style scoped>\n",
       "    .dataframe tbody tr th:only-of-type {\n",
       "        vertical-align: middle;\n",
       "    }\n",
       "\n",
       "    .dataframe tbody tr th {\n",
       "        vertical-align: top;\n",
       "    }\n",
       "\n",
       "    .dataframe thead th {\n",
       "        text-align: right;\n",
       "    }\n",
       "</style>\n",
       "<table border=\"1\" class=\"dataframe\">\n",
       "  <thead>\n",
       "    <tr style=\"text-align: right;\">\n",
       "      <th></th>\n",
       "      <th>id_client</th>\n",
       "      <th>id_trading_point</th>\n",
       "      <th>city</th>\n",
       "      <th>id_order</th>\n",
       "      <th>amt_payment</th>\n",
       "      <th>dtime_ad</th>\n",
       "      <th>nflag_test</th>\n",
       "    </tr>\n",
       "  </thead>\n",
       "  <tbody>\n",
       "    <tr>\n",
       "      <th>0</th>\n",
       "      <td>178561.0</td>\n",
       "      <td>453.0</td>\n",
       "      <td>Санкт-Петербург</td>\n",
       "      <td>1</td>\n",
       "      <td>3052.0</td>\n",
       "      <td>2022-06-03 02:47:49.183</td>\n",
       "      <td>0</td>\n",
       "    </tr>\n",
       "    <tr>\n",
       "      <th>1</th>\n",
       "      <td>178562.0</td>\n",
       "      <td>2652.0</td>\n",
       "      <td>Москва</td>\n",
       "      <td>1</td>\n",
       "      <td>2439.0</td>\n",
       "      <td>2022-06-03 02:51:21.878</td>\n",
       "      <td>0</td>\n",
       "    </tr>\n",
       "    <tr>\n",
       "      <th>2</th>\n",
       "      <td>178563.0</td>\n",
       "      <td>112.0</td>\n",
       "      <td>Санкт-Петербург</td>\n",
       "      <td>1</td>\n",
       "      <td>768.0</td>\n",
       "      <td>2022-06-03 02:52:10.616</td>\n",
       "      <td>1</td>\n",
       "    </tr>\n",
       "    <tr>\n",
       "      <th>3</th>\n",
       "      <td>178564.0</td>\n",
       "      <td>26.0</td>\n",
       "      <td>Ростов-на-Дону</td>\n",
       "      <td>0</td>\n",
       "      <td>0.0</td>\n",
       "      <td>2022-06-03 02:53:10.089</td>\n",
       "      <td>1</td>\n",
       "    </tr>\n",
       "    <tr>\n",
       "      <th>4</th>\n",
       "      <td>178565.0</td>\n",
       "      <td>739.0</td>\n",
       "      <td>Новосибирск</td>\n",
       "      <td>1</td>\n",
       "      <td>958.0</td>\n",
       "      <td>2022-06-03 02:55:13.525</td>\n",
       "      <td>1</td>\n",
       "    </tr>\n",
       "    <tr>\n",
       "      <th>...</th>\n",
       "      <td>...</td>\n",
       "      <td>...</td>\n",
       "      <td>...</td>\n",
       "      <td>...</td>\n",
       "      <td>...</td>\n",
       "      <td>...</td>\n",
       "      <td>...</td>\n",
       "    </tr>\n",
       "    <tr>\n",
       "      <th>55351</th>\n",
       "      <td>331949.0</td>\n",
       "      <td>573.0</td>\n",
       "      <td>Санкт-Петербург</td>\n",
       "      <td>0</td>\n",
       "      <td>0.0</td>\n",
       "      <td>2022-07-15 10:07:09.632</td>\n",
       "      <td>1</td>\n",
       "    </tr>\n",
       "    <tr>\n",
       "      <th>55352</th>\n",
       "      <td>331950.0</td>\n",
       "      <td>1654.0</td>\n",
       "      <td>Москва</td>\n",
       "      <td>0</td>\n",
       "      <td>0.0</td>\n",
       "      <td>2022-07-18 03:10:18.517</td>\n",
       "      <td>1</td>\n",
       "    </tr>\n",
       "    <tr>\n",
       "      <th>55353</th>\n",
       "      <td>331954.0</td>\n",
       "      <td>544.0</td>\n",
       "      <td>Казань</td>\n",
       "      <td>0</td>\n",
       "      <td>0.0</td>\n",
       "      <td>2022-07-08 12:45:17.300</td>\n",
       "      <td>0</td>\n",
       "    </tr>\n",
       "    <tr>\n",
       "      <th>55354</th>\n",
       "      <td>331955.0</td>\n",
       "      <td>72.0</td>\n",
       "      <td>Сочи</td>\n",
       "      <td>0</td>\n",
       "      <td>0.0</td>\n",
       "      <td>2022-08-12 03:15:49.011</td>\n",
       "      <td>0</td>\n",
       "    </tr>\n",
       "    <tr>\n",
       "      <th>55355</th>\n",
       "      <td>331964.0</td>\n",
       "      <td>202.0</td>\n",
       "      <td>Красноярск</td>\n",
       "      <td>0</td>\n",
       "      <td>0.0</td>\n",
       "      <td>2022-07-17 08:35:50.511</td>\n",
       "      <td>0</td>\n",
       "    </tr>\n",
       "  </tbody>\n",
       "</table>\n",
       "<p>55356 rows × 7 columns</p>\n",
       "</div>"
      ],
      "text/plain": [
       "       id_client  id_trading_point             city  id_order  amt_payment  \\\n",
       "0       178561.0             453.0  Санкт-Петербург         1       3052.0   \n",
       "1       178562.0            2652.0           Москва         1       2439.0   \n",
       "2       178563.0             112.0  Санкт-Петербург         1        768.0   \n",
       "3       178564.0              26.0   Ростов-на-Дону         0          0.0   \n",
       "4       178565.0             739.0      Новосибирск         1        958.0   \n",
       "...          ...               ...              ...       ...          ...   \n",
       "55351   331949.0             573.0  Санкт-Петербург         0          0.0   \n",
       "55352   331950.0            1654.0           Москва         0          0.0   \n",
       "55353   331954.0             544.0           Казань         0          0.0   \n",
       "55354   331955.0              72.0             Сочи         0          0.0   \n",
       "55355   331964.0             202.0       Красноярск         0          0.0   \n",
       "\n",
       "                     dtime_ad  nflag_test  \n",
       "0     2022-06-03 02:47:49.183           0  \n",
       "1     2022-06-03 02:51:21.878           0  \n",
       "2     2022-06-03 02:52:10.616           1  \n",
       "3     2022-06-03 02:53:10.089           1  \n",
       "4     2022-06-03 02:55:13.525           1  \n",
       "...                       ...         ...  \n",
       "55351 2022-07-15 10:07:09.632           1  \n",
       "55352 2022-07-18 03:10:18.517           1  \n",
       "55353 2022-07-08 12:45:17.300           0  \n",
       "55354 2022-08-12 03:15:49.011           0  \n",
       "55355 2022-07-17 08:35:50.511           0  \n",
       "\n",
       "[55356 rows x 7 columns]"
      ]
     },
     "execution_count": 67,
     "metadata": {},
     "output_type": "execute_result"
    }
   ],
   "source": [
    "df_fin=df_cl.merge(df_clients[['id_client','dtime_ad','nflag_test']], on = 'id_client')\n",
    "df_fin"
   ]
  },
  {
   "cell_type": "code",
   "execution_count": 68,
   "id": "bf47deb9-1707-40d7-9a8d-c45416ad44ce",
   "metadata": {},
   "outputs": [
    {
     "data": {
      "text/html": [
       "<div>\n",
       "<style scoped>\n",
       "    .dataframe tbody tr th:only-of-type {\n",
       "        vertical-align: middle;\n",
       "    }\n",
       "\n",
       "    .dataframe tbody tr th {\n",
       "        vertical-align: top;\n",
       "    }\n",
       "\n",
       "    .dataframe thead th {\n",
       "        text-align: right;\n",
       "    }\n",
       "</style>\n",
       "<table border=\"1\" class=\"dataframe\">\n",
       "  <thead>\n",
       "    <tr style=\"text-align: right;\">\n",
       "      <th></th>\n",
       "      <th>id_client</th>\n",
       "      <th>id_trading_point</th>\n",
       "      <th>city</th>\n",
       "      <th>id_order</th>\n",
       "      <th>amt_payment</th>\n",
       "      <th>dtime_ad</th>\n",
       "      <th>nflag_test</th>\n",
       "      <th>nflag_paid</th>\n",
       "    </tr>\n",
       "  </thead>\n",
       "  <tbody>\n",
       "    <tr>\n",
       "      <th>0</th>\n",
       "      <td>178561.0</td>\n",
       "      <td>453.0</td>\n",
       "      <td>Санкт-Петербург</td>\n",
       "      <td>1</td>\n",
       "      <td>3052.0</td>\n",
       "      <td>2022-06-03 02:47:49.183</td>\n",
       "      <td>0</td>\n",
       "      <td>1</td>\n",
       "    </tr>\n",
       "    <tr>\n",
       "      <th>1</th>\n",
       "      <td>178562.0</td>\n",
       "      <td>2652.0</td>\n",
       "      <td>Москва</td>\n",
       "      <td>1</td>\n",
       "      <td>2439.0</td>\n",
       "      <td>2022-06-03 02:51:21.878</td>\n",
       "      <td>0</td>\n",
       "      <td>1</td>\n",
       "    </tr>\n",
       "    <tr>\n",
       "      <th>2</th>\n",
       "      <td>178563.0</td>\n",
       "      <td>112.0</td>\n",
       "      <td>Санкт-Петербург</td>\n",
       "      <td>1</td>\n",
       "      <td>768.0</td>\n",
       "      <td>2022-06-03 02:52:10.616</td>\n",
       "      <td>1</td>\n",
       "      <td>1</td>\n",
       "    </tr>\n",
       "    <tr>\n",
       "      <th>3</th>\n",
       "      <td>178564.0</td>\n",
       "      <td>26.0</td>\n",
       "      <td>Ростов-на-Дону</td>\n",
       "      <td>0</td>\n",
       "      <td>0.0</td>\n",
       "      <td>2022-06-03 02:53:10.089</td>\n",
       "      <td>1</td>\n",
       "      <td>0</td>\n",
       "    </tr>\n",
       "    <tr>\n",
       "      <th>4</th>\n",
       "      <td>178565.0</td>\n",
       "      <td>739.0</td>\n",
       "      <td>Новосибирск</td>\n",
       "      <td>1</td>\n",
       "      <td>958.0</td>\n",
       "      <td>2022-06-03 02:55:13.525</td>\n",
       "      <td>1</td>\n",
       "      <td>1</td>\n",
       "    </tr>\n",
       "    <tr>\n",
       "      <th>...</th>\n",
       "      <td>...</td>\n",
       "      <td>...</td>\n",
       "      <td>...</td>\n",
       "      <td>...</td>\n",
       "      <td>...</td>\n",
       "      <td>...</td>\n",
       "      <td>...</td>\n",
       "      <td>...</td>\n",
       "    </tr>\n",
       "    <tr>\n",
       "      <th>55351</th>\n",
       "      <td>331949.0</td>\n",
       "      <td>573.0</td>\n",
       "      <td>Санкт-Петербург</td>\n",
       "      <td>0</td>\n",
       "      <td>0.0</td>\n",
       "      <td>2022-07-15 10:07:09.632</td>\n",
       "      <td>1</td>\n",
       "      <td>0</td>\n",
       "    </tr>\n",
       "    <tr>\n",
       "      <th>55352</th>\n",
       "      <td>331950.0</td>\n",
       "      <td>1654.0</td>\n",
       "      <td>Москва</td>\n",
       "      <td>0</td>\n",
       "      <td>0.0</td>\n",
       "      <td>2022-07-18 03:10:18.517</td>\n",
       "      <td>1</td>\n",
       "      <td>0</td>\n",
       "    </tr>\n",
       "    <tr>\n",
       "      <th>55353</th>\n",
       "      <td>331954.0</td>\n",
       "      <td>544.0</td>\n",
       "      <td>Казань</td>\n",
       "      <td>0</td>\n",
       "      <td>0.0</td>\n",
       "      <td>2022-07-08 12:45:17.300</td>\n",
       "      <td>0</td>\n",
       "      <td>0</td>\n",
       "    </tr>\n",
       "    <tr>\n",
       "      <th>55354</th>\n",
       "      <td>331955.0</td>\n",
       "      <td>72.0</td>\n",
       "      <td>Сочи</td>\n",
       "      <td>0</td>\n",
       "      <td>0.0</td>\n",
       "      <td>2022-08-12 03:15:49.011</td>\n",
       "      <td>0</td>\n",
       "      <td>0</td>\n",
       "    </tr>\n",
       "    <tr>\n",
       "      <th>55355</th>\n",
       "      <td>331964.0</td>\n",
       "      <td>202.0</td>\n",
       "      <td>Красноярск</td>\n",
       "      <td>0</td>\n",
       "      <td>0.0</td>\n",
       "      <td>2022-07-17 08:35:50.511</td>\n",
       "      <td>0</td>\n",
       "      <td>0</td>\n",
       "    </tr>\n",
       "  </tbody>\n",
       "</table>\n",
       "<p>55356 rows × 8 columns</p>\n",
       "</div>"
      ],
      "text/plain": [
       "       id_client  id_trading_point             city  id_order  amt_payment  \\\n",
       "0       178561.0             453.0  Санкт-Петербург         1       3052.0   \n",
       "1       178562.0            2652.0           Москва         1       2439.0   \n",
       "2       178563.0             112.0  Санкт-Петербург         1        768.0   \n",
       "3       178564.0              26.0   Ростов-на-Дону         0          0.0   \n",
       "4       178565.0             739.0      Новосибирск         1        958.0   \n",
       "...          ...               ...              ...       ...          ...   \n",
       "55351   331949.0             573.0  Санкт-Петербург         0          0.0   \n",
       "55352   331950.0            1654.0           Москва         0          0.0   \n",
       "55353   331954.0             544.0           Казань         0          0.0   \n",
       "55354   331955.0              72.0             Сочи         0          0.0   \n",
       "55355   331964.0             202.0       Красноярск         0          0.0   \n",
       "\n",
       "                     dtime_ad  nflag_test  nflag_paid  \n",
       "0     2022-06-03 02:47:49.183           0           1  \n",
       "1     2022-06-03 02:51:21.878           0           1  \n",
       "2     2022-06-03 02:52:10.616           1           1  \n",
       "3     2022-06-03 02:53:10.089           1           0  \n",
       "4     2022-06-03 02:55:13.525           1           1  \n",
       "...                       ...         ...         ...  \n",
       "55351 2022-07-15 10:07:09.632           1           0  \n",
       "55352 2022-07-18 03:10:18.517           1           0  \n",
       "55353 2022-07-08 12:45:17.300           0           0  \n",
       "55354 2022-08-12 03:15:49.011           0           0  \n",
       "55355 2022-07-17 08:35:50.511           0           0  \n",
       "\n",
       "[55356 rows x 8 columns]"
      ]
     },
     "execution_count": 68,
     "metadata": {},
     "output_type": "execute_result"
    }
   ],
   "source": [
    "df_fin['nflag_paid']=np.where(df_fin['amt_payment']>0,1,0)\n",
    "df_fin"
   ]
  },
  {
   "cell_type": "code",
   "execution_count": 69,
   "id": "b49b3128-d337-4a89-919d-fef94de6e0df",
   "metadata": {},
   "outputs": [],
   "source": [
    "##3.Автоматизация статистических вычислений"
   ]
  },
  {
   "cell_type": "code",
   "execution_count": 70,
   "id": "2f8fed13-731c-4245-9f18-3ccaec059171",
   "metadata": {},
   "outputs": [],
   "source": [
    "def test_calc(r1,r2, alpha =0.05):\n",
    "    s,p =ttest_ind(r1,r2)\n",
    "    \n",
    "    if p< alpha:\n",
    "        print(\"Гипотеза НО не подтверждается:средние не равны\")\n",
    "        print(\"Разница средних=\",r1.mean()-r2.mean())\n",
    "    else:\n",
    "        print(\"Гипотеза НО подтверждается:средние равны\")\n",
    "        print(\"Разница средних=0\")\n",
    "        \n",
    "    return s,p  "
   ]
  },
  {
   "cell_type": "code",
   "execution_count": 71,
   "id": "62f814c9-c268-4228-81af-5d6956ba1bbb",
   "metadata": {},
   "outputs": [],
   "source": [
    "def mann_whitney_func(r1,r2, alpha =0.05):\n",
    "    s,p =mannwhitneyu(r1,r2)\n",
    "    \n",
    "    if p< alpha:\n",
    "        print(\"Распределения не равны\")\n",
    "    else:\n",
    "        print(\"Распределения равны\")\n",
    "               \n",
    "    return s,p  "
   ]
  },
  {
   "cell_type": "code",
   "execution_count": 72,
   "id": "b6fba35d-e623-48a8-9e7f-ac18cc574173",
   "metadata": {},
   "outputs": [],
   "source": [
    "## 4.Чистка неверно заполненных точек"
   ]
  },
  {
   "cell_type": "code",
   "execution_count": 73,
   "id": "07fd9582-ff18-4e14-bfee-f08a8d6a04db",
   "metadata": {},
   "outputs": [
    {
     "name": "stderr",
     "output_type": "stream",
     "text": [
      "C:\\Users\\Zver\\AppData\\Local\\Temp\\ipykernel_4124\\1987282464.py:5: FutureWarning: Dropping of nuisance columns in DataFrame reductions (with 'numeric_only=None') is deprecated; in a future version this will raise TypeError.  Select only valid columns before calling the reduction.\n",
      "  sum_a = df_fin[(df_fin['id_trading_point']==i) & (df_fin['nflag_test']==0)].sum()['amt_payment'].sum()\n",
      "C:\\Users\\Zver\\AppData\\Local\\Temp\\ipykernel_4124\\1987282464.py:6: FutureWarning: Dropping of nuisance columns in DataFrame reductions (with 'numeric_only=None') is deprecated; in a future version this will raise TypeError.  Select only valid columns before calling the reduction.\n",
      "  sum_b = df_fin[(df_fin['id_trading_point']==i) & (df_fin['nflag_test']==1)].sum()['amt_payment'].sum()\n"
     ]
    },
    {
     "name": "stdout",
     "output_type": "stream",
     "text": [
      "[26.0, 739.0, 866.0, 46.0, 1099.0, 1015.0, 603.0, 810.0, 800.0, 228.0, 1.0, 13.0, 23.0, 4.0, 7.0]\n"
     ]
    }
   ],
   "source": [
    "zero_payment_points =[]\n",
    "\n",
    "for i in df_fin['id_trading_point'].unique():\n",
    "    df_loc = df_fin[df_fin['id_trading_point']==i]\n",
    "    sum_a = df_fin[(df_fin['id_trading_point']==i) & (df_fin['nflag_test']==0)].sum()['amt_payment'].sum()\n",
    "    sum_b = df_fin[(df_fin['id_trading_point']==i) & (df_fin['nflag_test']==1)].sum()['amt_payment'].sum()\n",
    "    if (sum_a ==0)|(sum_b==0):\n",
    "        zero_payment_points.append(i)\n",
    "print(zero_payment_points)"
   ]
  },
  {
   "cell_type": "code",
   "execution_count": 74,
   "id": "59d45620-b19f-473a-9587-79b80d435555",
   "metadata": {},
   "outputs": [
    {
     "name": "stdout",
     "output_type": "stream",
     "text": [
      "[739.0, 866.0, 1099.0, 1015.0, 603.0, 810.0, 800.0, 228.0]\n"
     ]
    }
   ],
   "source": [
    "empty_group_points=[]\n",
    "\n",
    "for i in df_fin['id_trading_point'].unique():\n",
    "    \n",
    "    c_a = df_fin[(df_fin['id_trading_point']==i) & (df_fin['nflag_test']==0)].count()['id_client']\n",
    "    c_b = df_fin[(df_fin['id_trading_point']==i) & (df_fin['nflag_test']==1)].count()['id_client']\n",
    "    #print(c_a)\n",
    "    #print(c_b)\n",
    "    if(c_a==0)|(c_b==0):\n",
    "        empty_group_points.append(i)\n",
    "print(empty_group_points)"
   ]
  },
  {
   "cell_type": "code",
   "execution_count": 75,
   "id": "8d18a4e3-8a0e-433e-bbdd-d1bba60df50a",
   "metadata": {},
   "outputs": [],
   "source": [
    "## 5.Расчет общих результатов АБ Теста"
   ]
  },
  {
   "cell_type": "code",
   "execution_count": 76,
   "id": "762e21c9-131e-425f-a73f-9213fe85f6cf",
   "metadata": {},
   "outputs": [
    {
     "data": {
      "text/plain": [
       "<seaborn.axisgrid.FacetGrid at 0x1a4c7c96220>"
      ]
     },
     "execution_count": 76,
     "metadata": {},
     "output_type": "execute_result"
    },
    {
     "data": {
      "image/png": "[encoded data removed]",
      "text/plain": [
       "<Figure size 417.5x360 with 1 Axes>"
      ]
     },
     "metadata": {
      "needs_background": "light"
     },
     "output_type": "display_data"
    }
   ],
   "source": [
    "df_fin=df_fin[~df_fin['id_trading_point'].isin(empty_group_points+zero_payment_points)]\n",
    "sns.displot(df_fin,x='amt_payment', hue = 'nflag_test')"
   ]
  },
  {
   "cell_type": "code",
   "execution_count": 77,
   "id": "e2fa1320-e833-4334-9298-6009ea76ccdb",
   "metadata": {},
   "outputs": [
    {
     "name": "stdout",
     "output_type": "stream",
     "text": [
      "Гипотеза НО не подтверждается:средние не равны\n",
      "Разница средних= 158.91123610796285\n"
     ]
    },
    {
     "data": {
      "text/plain": [
       "(5.663915722973564, 1.488511135509387e-08)"
      ]
     },
     "execution_count": 77,
     "metadata": {},
     "output_type": "execute_result"
    }
   ],
   "source": [
    "test_calc(df_fin[df_fin['nflag_test']==1]['amt_payment'],df_fin[df_fin['nflag_test']==0]['amt_payment'])"
   ]
  },
  {
   "cell_type": "code",
   "execution_count": 78,
   "id": "f0da07c0-4237-4d13-bd05-893d6a90e43f",
   "metadata": {},
   "outputs": [
    {
     "name": "stdout",
     "output_type": "stream",
     "text": [
      "Гипотеза НО не подтверждается:средние не равны\n",
      "Разница средних= 0.02520549875986211\n"
     ]
    },
    {
     "data": {
      "text/plain": [
       "(5.377160738040539, 7.604318948190198e-08)"
      ]
     },
     "execution_count": 78,
     "metadata": {},
     "output_type": "execute_result"
    }
   ],
   "source": [
    "test_calc(df_fin[df_fin['nflag_test']==1]['nflag_paid'],df_fin[df_fin['nflag_test']==0]['nflag_paid'])"
   ]
  },
  {
   "cell_type": "code",
   "execution_count": 79,
   "id": "95cde901-daf7-4cda-94f8-1c04a7ce7a9b",
   "metadata": {},
   "outputs": [
    {
     "name": "stdout",
     "output_type": "stream",
     "text": [
      "Распределения не равны\n"
     ]
    },
    {
     "data": {
      "text/plain": [
       "(264700600.0, 1.246458969497137e-09)"
      ]
     },
     "execution_count": 79,
     "metadata": {},
     "output_type": "execute_result"
    }
   ],
   "source": [
    "mann_whitney_func(df_fin[df_fin['nflag_test']==1]['amt_payment'],df_fin[df_fin['nflag_test']==0]['amt_payment'])"
   ]
  },
  {
   "cell_type": "code",
   "execution_count": 80,
   "id": "f0b74f3d-04e3-41c7-ab7f-40bb2595d870",
   "metadata": {},
   "outputs": [],
   "source": [
    "## 6.Сегментация результатов АБ Теста"
   ]
  },
  {
   "cell_type": "code",
   "execution_count": 81,
   "id": "83f40f44-de32-4d17-95a6-860723f55bf3",
   "metadata": {},
   "outputs": [
    {
     "data": {
      "text/plain": [
       "['Москва',\n",
       " 'Мурманск',\n",
       " 'Тольятти',\n",
       " 'Санкт-Петербург',\n",
       " 'Ярославль',\n",
       " 'Краснодар',\n",
       " 'Самара',\n",
       " 'Саратов',\n",
       " 'Новосибирск',\n",
       " 'Красноярск',\n",
       " 'Волгоград',\n",
       " 'Казань',\n",
       " 'Сочи',\n",
       " 'Сахалинск',\n",
       " 'Владимир',\n",
       " 'Тюмень',\n",
       " 'Дмитров',\n",
       " 'Ростов-на-Дону',\n",
       " 'Ростов Великий',\n",
       " 'Великий Новгород',\n",
       " 'Чехов',\n",
       " 'Петрозаводск',\n",
       " 'Нижний Новгород']"
      ]
     },
     "execution_count": 81,
     "metadata": {},
     "output_type": "execute_result"
    }
   ],
   "source": [
    "all_cities= list(df['city'].unique())\n",
    "all_cities"
   ]
  },
  {
   "cell_type": "code",
   "execution_count": 82,
   "id": "4328a7a0-146e-45fc-a1f2-d767867db112",
   "metadata": {},
   "outputs": [
    {
     "name": "stdout",
     "output_type": "stream",
     "text": [
      "Москва\n",
      "\n"
     ]
    },
    {
     "data": {
      "image/png": "[encoded data removed]",
      "text/plain": [
       "<Figure size 417.5x360 with 1 Axes>"
      ]
     },
     "metadata": {
      "needs_background": "light"
     },
     "output_type": "display_data"
    },
    {
     "name": "stdout",
     "output_type": "stream",
     "text": [
      "Гипотеза НО не подтверждается:средние не равны\n",
      "Разница средних= -381.7784892750842\n",
      "Гипотеза НО не подтверждается:средние не равны\n",
      "Разница средних= -0.05557800593933432\n",
      "Номер торговой точки = 2652.0\n"
     ]
    },
    {
     "data": {
      "image/png": "[encoded data removed]",
      "text/plain": [
       "<Figure size 417.5x360 with 1 Axes>"
      ]
     },
     "metadata": {
      "needs_background": "light"
     },
     "output_type": "display_data"
    },
    {
     "name": "stdout",
     "output_type": "stream",
     "text": [
      "Номер торговой точки = 3786.0\n"
     ]
    },
    {
     "data": {
      "image/png": "[encoded data removed]",
      "text/plain": [
       "<Figure size 417.5x360 with 1 Axes>"
      ]
     },
     "metadata": {
      "needs_background": "light"
     },
     "output_type": "display_data"
    },
    {
     "name": "stdout",
     "output_type": "stream",
     "text": [
      "Номер торговой точки = 1287.0\n"
     ]
    },
    {
     "data": {
      "image/png": "[encoded data removed]",
      "text/plain": [
       "<Figure size 417.5x360 with 1 Axes>"
      ]
     },
     "metadata": {
      "needs_background": "light"
     },
     "output_type": "display_data"
    },
    {
     "name": "stdout",
     "output_type": "stream",
     "text": [
      "Номер торговой точки = 1654.0\n"
     ]
    },
    {
     "data": {
      "image/png": "[encoded data removed]",
      "text/plain": [
       "<Figure size 417.5x360 with 1 Axes>"
      ]
     },
     "metadata": {
      "needs_background": "light"
     },
     "output_type": "display_data"
    },
    {
     "name": "stdout",
     "output_type": "stream",
     "text": [
      "Номер торговой точки = 3987.0\n"
     ]
    },
    {
     "data": {
      "image/png": "[encoded data removed]",
      "text/plain": [
       "<Figure size 417.5x360 with 1 Axes>"
      ]
     },
     "metadata": {
      "needs_background": "light"
     },
     "output_type": "display_data"
    },
    {
     "name": "stdout",
     "output_type": "stream",
     "text": [
      "Номер торговой точки = 2212.0\n"
     ]
    },
    {
     "data": {
      "image/png": "[encoded data removed]",
      "text/plain": [
       "<Figure size 417.5x360 with 1 Axes>"
      ]
     },
     "metadata": {
      "needs_background": "light"
     },
     "output_type": "display_data"
    },
    {
     "name": "stdout",
     "output_type": "stream",
     "text": [
      "Номер торговой точки = 8543.0\n"
     ]
    },
    {
     "data": {
      "image/png": "[encoded data removed]",
      "text/plain": [
       "<Figure size 417.5x360 with 1 Axes>"
      ]
     },
     "metadata": {
      "needs_background": "light"
     },
     "output_type": "display_data"
    },
    {
     "name": "stdout",
     "output_type": "stream",
     "text": [
      "Номер торговой точки = 6543.0\n"
     ]
    },
    {
     "data": {
      "image/png": "[encoded data removed]",
      "text/plain": [
       "<Figure size 417.5x360 with 1 Axes>"
      ]
     },
     "metadata": {
      "needs_background": "light"
     },
     "output_type": "display_data"
    },
    {
     "name": "stdout",
     "output_type": "stream",
     "text": [
      "Номер торговой точки = 9121.0\n"
     ]
    },
    {
     "data": {
      "image/png": "[encoded data removed]",
      "text/plain": [
       "<Figure size 417.5x360 with 1 Axes>"
      ]
     },
     "metadata": {
      "needs_background": "light"
     },
     "output_type": "display_data"
    },
    {
     "name": "stdout",
     "output_type": "stream",
     "text": [
      "Номер торговой точки = 1002.0\n"
     ]
    },
    {
     "data": {
      "image/png": "[encoded data removed]",
      "text/plain": [
       "<Figure size 417.5x360 with 1 Axes>"
      ]
     },
     "metadata": {
      "needs_background": "light"
     },
     "output_type": "display_data"
    },
    {
     "name": "stdout",
     "output_type": "stream",
     "text": [
      "Номер торговой точки = 9931.0\n"
     ]
    },
    {
     "data": {
      "image/png": "[encoded data removed]",
      "text/plain": [
       "<Figure size 417.5x360 with 1 Axes>"
      ]
     },
     "metadata": {
      "needs_background": "light"
     },
     "output_type": "display_data"
    },
    {
     "name": "stdout",
     "output_type": "stream",
     "text": [
      "Мурманск\n",
      "\n"
     ]
    },
    {
     "data": {
      "image/png": "[encoded data removed]",
      "text/plain": [
       "<Figure size 417.5x360 with 1 Axes>"
      ]
     },
     "metadata": {
      "needs_background": "light"
     },
     "output_type": "display_data"
    },
    {
     "name": "stdout",
     "output_type": "stream",
     "text": [
      "Гипотеза НО подтверждается:средние равны\n",
      "Разница средних=0\n",
      "Гипотеза НО подтверждается:средние равны\n",
      "Разница средних=0\n",
      "Номер торговой точки = 55.0\n"
     ]
    },
    {
     "data": {
      "image/png": "[encoded data removed]",
      "text/plain": [
       "<Figure size 417.5x360 with 1 Axes>"
      ]
     },
     "metadata": {
      "needs_background": "light"
     },
     "output_type": "display_data"
    },
    {
     "name": "stdout",
     "output_type": "stream",
     "text": [
      "Номер торговой точки = 54.0\n"
     ]
    },
    {
     "data": {
      "image/png": "[encoded data removed]",
      "text/plain": [
       "<Figure size 417.5x360 with 1 Axes>"
      ]
     },
     "metadata": {
      "needs_background": "light"
     },
     "output_type": "display_data"
    },
    {
     "name": "stdout",
     "output_type": "stream",
     "text": [
      "Тольятти\n",
      "\n"
     ]
    },
    {
     "data": {
      "image/png": "[encoded data removed]",
      "text/plain": [
       "<Figure size 417.5x360 with 1 Axes>"
      ]
     },
     "metadata": {
      "needs_background": "light"
     },
     "output_type": "display_data"
    },
    {
     "name": "stdout",
     "output_type": "stream",
     "text": [
      "Гипотеза НО подтверждается:средние равны\n",
      "Разница средних=0\n",
      "Гипотеза НО подтверждается:средние равны\n",
      "Разница средних=0\n",
      "Номер торговой точки = 88.0\n"
     ]
    },
    {
     "data": {
      "image/png": "[encoded data removed]",
      "text/plain": [
       "<Figure size 417.5x360 with 1 Axes>"
      ]
     },
     "metadata": {
      "needs_background": "light"
     },
     "output_type": "display_data"
    },
    {
     "name": "stdout",
     "output_type": "stream",
     "text": [
      "Санкт-Петербург\n",
      "\n"
     ]
    },
    {
     "data": {
      "image/png": "[encoded data removed]",
      "text/plain": [
       "<Figure size 417.5x360 with 1 Axes>"
      ]
     },
     "metadata": {
      "needs_background": "light"
     },
     "output_type": "display_data"
    },
    {
     "name": "stdout",
     "output_type": "stream",
     "text": [
      "Гипотеза НО подтверждается:средние равны\n",
      "Разница средних=0\n",
      "Гипотеза НО подтверждается:средние равны\n",
      "Разница средних=0\n",
      "Номер торговой точки = 453.0\n"
     ]
    },
    {
     "data": {
      "image/png": "[encoded data removed]",
      "text/plain": [
       "<Figure size 417.5x360 with 1 Axes>"
      ]
     },
     "metadata": {
      "needs_background": "light"
     },
     "output_type": "display_data"
    },
    {
     "name": "stdout",
     "output_type": "stream",
     "text": [
      "Номер торговой точки = 112.0\n"
     ]
    },
    {
     "data": {
      "image/png": "[encoded data removed]",
      "text/plain": [
       "<Figure size 417.5x360 with 1 Axes>"
      ]
     },
     "metadata": {
      "needs_background": "light"
     },
     "output_type": "display_data"
    },
    {
     "name": "stdout",
     "output_type": "stream",
     "text": [
      "Номер торговой точки = 117.0\n"
     ]
    },
    {
     "data": {
      "image/png": "[encoded data removed]",
      "text/plain": [
       "<Figure size 417.5x360 with 1 Axes>"
      ]
     },
     "metadata": {
      "needs_background": "light"
     },
     "output_type": "display_data"
    },
    {
     "name": "stdout",
     "output_type": "stream",
     "text": [
      "Номер торговой точки = 309.0\n"
     ]
    },
    {
     "data": {
      "image/png": "[encoded data removed]",
      "text/plain": [
       "<Figure size 417.5x360 with 1 Axes>"
      ]
     },
     "metadata": {
      "needs_background": "light"
     },
     "output_type": "display_data"
    },
    {
     "name": "stdout",
     "output_type": "stream",
     "text": [
      "Номер торговой точки = 576.0\n"
     ]
    },
    {
     "data": {
      "image/png": "[encoded data removed]",
      "text/plain": [
       "<Figure size 417.5x360 with 1 Axes>"
      ]
     },
     "metadata": {
      "needs_background": "light"
     },
     "output_type": "display_data"
    },
    {
     "name": "stdout",
     "output_type": "stream",
     "text": [
      "Номер торговой точки = 900.0\n"
     ]
    },
    {
     "data": {
      "image/png": "[encoded data removed]",
      "text/plain": [
       "<Figure size 417.5x360 with 1 Axes>"
      ]
     },
     "metadata": {
      "needs_background": "light"
     },
     "output_type": "display_data"
    },
    {
     "name": "stdout",
     "output_type": "stream",
     "text": [
      "Номер торговой точки = 213.0\n"
     ]
    },
    {
     "data": {
      "image/png": "[encoded data removed]",
      "text/plain": [
       "<Figure size 417.5x360 with 1 Axes>"
      ]
     },
     "metadata": {
      "needs_background": "light"
     },
     "output_type": "display_data"
    },
    {
     "name": "stdout",
     "output_type": "stream",
     "text": [
      "Номер торговой точки = 801.0\n"
     ]
    },
    {
     "data": {
      "image/png": "[encoded data removed]",
      "text/plain": [
       "<Figure size 417.5x360 with 1 Axes>"
      ]
     },
     "metadata": {
      "needs_background": "light"
     },
     "output_type": "display_data"
    },
    {
     "name": "stdout",
     "output_type": "stream",
     "text": [
      "Номер торговой точки = 573.0\n"
     ]
    },
    {
     "data": {
      "image/png": "[encoded data removed]",
      "text/plain": [
       "<Figure size 417.5x360 with 1 Axes>"
      ]
     },
     "metadata": {
      "needs_background": "light"
     },
     "output_type": "display_data"
    },
    {
     "name": "stdout",
     "output_type": "stream",
     "text": [
      "Номер торговой точки = 891.0\n"
     ]
    },
    {
     "data": {
      "image/png": "[encoded data removed]",
      "text/plain": [
       "<Figure size 417.5x360 with 1 Axes>"
      ]
     },
     "metadata": {
      "needs_background": "light"
     },
     "output_type": "display_data"
    },
    {
     "name": "stdout",
     "output_type": "stream",
     "text": [
      "Номер торговой точки = 394.0\n"
     ]
    },
    {
     "data": {
      "image/png": "[encoded data removed]",
      "text/plain": [
       "<Figure size 417.5x360 with 1 Axes>"
      ]
     },
     "metadata": {
      "needs_background": "light"
     },
     "output_type": "display_data"
    },
    {
     "name": "stdout",
     "output_type": "stream",
     "text": [
      "Ярославль\n",
      "\n"
     ]
    },
    {
     "data": {
      "image/png": "[encoded data removed]",
      "text/plain": [
       "<Figure size 360x360 with 1 Axes>"
      ]
     },
     "metadata": {
      "needs_background": "light"
     },
     "output_type": "display_data"
    },
    {
     "name": "stdout",
     "output_type": "stream",
     "text": [
      "Гипотеза НО подтверждается:средние равны\n",
      "Разница средних=0\n",
      "Гипотеза НО подтверждается:средние равны\n",
      "Разница средних=0\n",
      "Краснодар\n",
      "\n"
     ]
    },
    {
     "data": {
      "image/png": "[encoded data removed]",
      "text/plain": [
       "<Figure size 417.5x360 with 1 Axes>"
      ]
     },
     "metadata": {
      "needs_background": "light"
     },
     "output_type": "display_data"
    },
    {
     "name": "stdout",
     "output_type": "stream",
     "text": [
      "Гипотеза НО подтверждается:средние равны\n",
      "Разница средних=0\n",
      "Гипотеза НО подтверждается:средние равны\n",
      "Разница средних=0\n",
      "Номер торговой точки = 1101.0\n"
     ]
    },
    {
     "data": {
      "image/png": "[encoded data removed]",
      "text/plain": [
       "<Figure size 417.5x360 with 1 Axes>"
      ]
     },
     "metadata": {
      "needs_background": "light"
     },
     "output_type": "display_data"
    },
    {
     "name": "stdout",
     "output_type": "stream",
     "text": [
      "Номер торговой точки = 1989.0\n"
     ]
    },
    {
     "data": {
      "image/png": "[encoded data removed]",
      "text/plain": [
       "<Figure size 417.5x360 with 1 Axes>"
      ]
     },
     "metadata": {
      "needs_background": "light"
     },
     "output_type": "display_data"
    },
    {
     "name": "stdout",
     "output_type": "stream",
     "text": [
      "Самара\n",
      "\n"
     ]
    },
    {
     "data": {
      "image/png": "[encoded data removed]",
      "text/plain": [
       "<Figure size 417.5x360 with 1 Axes>"
      ]
     },
     "metadata": {
      "needs_background": "light"
     },
     "output_type": "display_data"
    },
    {
     "name": "stdout",
     "output_type": "stream",
     "text": [
      "Гипотеза НО не подтверждается:средние не равны\n",
      "Разница средних= -1544.3720191247648\n",
      "Гипотеза НО не подтверждается:средние не равны\n",
      "Разница средних= -0.2772412939282998\n",
      "Номер торговой точки = 33.0\n"
     ]
    },
    {
     "data": {
      "image/png": "[encoded data removed]",
      "text/plain": [
       "<Figure size 417.5x360 with 1 Axes>"
      ]
     },
     "metadata": {
      "needs_background": "light"
     },
     "output_type": "display_data"
    },
    {
     "name": "stdout",
     "output_type": "stream",
     "text": [
      "Номер торговой точки = 34.0\n"
     ]
    },
    {
     "data": {
      "image/png": "[encoded data removed]",
      "text/plain": [
       "<Figure size 417.5x360 with 1 Axes>"
      ]
     },
     "metadata": {
      "needs_background": "light"
     },
     "output_type": "display_data"
    },
    {
     "name": "stdout",
     "output_type": "stream",
     "text": [
      "Номер торговой точки = 35.0\n"
     ]
    },
    {
     "data": {
      "image/png": "[encoded data removed]",
      "text/plain": [
       "<Figure size 417.5x360 with 1 Axes>"
      ]
     },
     "metadata": {
      "needs_background": "light"
     },
     "output_type": "display_data"
    },
    {
     "name": "stdout",
     "output_type": "stream",
     "text": [
      "Номер торговой точки = 36.0\n"
     ]
    },
    {
     "data": {
      "image/png": "[encoded data removed]",
      "text/plain": [
       "<Figure size 417.5x360 with 1 Axes>"
      ]
     },
     "metadata": {
      "needs_background": "light"
     },
     "output_type": "display_data"
    },
    {
     "name": "stdout",
     "output_type": "stream",
     "text": [
      "Саратов\n",
      "\n"
     ]
    },
    {
     "data": {
      "image/png": "[encoded data removed]",
      "text/plain": [
       "<Figure size 417.5x360 with 1 Axes>"
      ]
     },
     "metadata": {
      "needs_background": "light"
     },
     "output_type": "display_data"
    },
    {
     "name": "stdout",
     "output_type": "stream",
     "text": [
      "Гипотеза НО подтверждается:средние равны\n",
      "Разница средних=0\n",
      "Гипотеза НО подтверждается:средние равны\n",
      "Разница средних=0\n",
      "Номер торговой точки = 80.0\n"
     ]
    },
    {
     "data": {
      "image/png": "[encoded data removed]",
      "text/plain": [
       "<Figure size 417.5x360 with 1 Axes>"
      ]
     },
     "metadata": {
      "needs_background": "light"
     },
     "output_type": "display_data"
    },
    {
     "name": "stdout",
     "output_type": "stream",
     "text": [
      "Номер торговой точки = 82.0\n"
     ]
    },
    {
     "data": {
      "image/png": "[encoded data removed]",
      "text/plain": [
       "<Figure size 417.5x360 with 1 Axes>"
      ]
     },
     "metadata": {
      "needs_background": "light"
     },
     "output_type": "display_data"
    },
    {
     "name": "stdout",
     "output_type": "stream",
     "text": [
      "Новосибирск\n",
      "\n"
     ]
    },
    {
     "data": {
      "image/png": "[encoded data removed]",
      "text/plain": [
       "<Figure size 360x360 with 1 Axes>"
      ]
     },
     "metadata": {
      "needs_background": "light"
     },
     "output_type": "display_data"
    },
    {
     "name": "stdout",
     "output_type": "stream",
     "text": [
      "Гипотеза НО подтверждается:средние равны\n",
      "Разница средних=0\n",
      "Гипотеза НО подтверждается:средние равны\n",
      "Разница средних=0\n",
      "Красноярск\n",
      "\n"
     ]
    },
    {
     "data": {
      "image/png": "[encoded data removed]",
      "text/plain": [
       "<Figure size 417.5x360 with 1 Axes>"
      ]
     },
     "metadata": {
      "needs_background": "light"
     },
     "output_type": "display_data"
    },
    {
     "name": "stdout",
     "output_type": "stream",
     "text": [
      "Гипотеза НО подтверждается:средние равны\n",
      "Разница средних=0\n",
      "Гипотеза НО подтверждается:средние равны\n",
      "Разница средних=0\n",
      "Номер торговой точки = 212.0\n"
     ]
    },
    {
     "data": {
      "image/png": "[encoded data removed]",
      "text/plain": [
       "<Figure size 417.5x360 with 1 Axes>"
      ]
     },
     "metadata": {
      "needs_background": "light"
     },
     "output_type": "display_data"
    },
    {
     "name": "stdout",
     "output_type": "stream",
     "text": [
      "Номер торговой точки = 277.0\n"
     ]
    },
    {
     "data": {
      "image/png": "[encoded data removed]",
      "text/plain": [
       "<Figure size 417.5x360 with 1 Axes>"
      ]
     },
     "metadata": {
      "needs_background": "light"
     },
     "output_type": "display_data"
    },
    {
     "name": "stdout",
     "output_type": "stream",
     "text": [
      "Номер торговой точки = 202.0\n"
     ]
    },
    {
     "data": {
      "image/png": "[encoded data removed]",
      "text/plain": [
       "<Figure size 417.5x360 with 1 Axes>"
      ]
     },
     "metadata": {
      "needs_background": "light"
     },
     "output_type": "display_data"
    },
    {
     "name": "stdout",
     "output_type": "stream",
     "text": [
      "Номер торговой точки = 444.0\n"
     ]
    },
    {
     "data": {
      "image/png": "[encoded data removed]",
      "text/plain": [
       "<Figure size 417.5x360 with 1 Axes>"
      ]
     },
     "metadata": {
      "needs_background": "light"
     },
     "output_type": "display_data"
    },
    {
     "name": "stdout",
     "output_type": "stream",
     "text": [
      "Номер торговой точки = 278.0\n"
     ]
    },
    {
     "data": {
      "image/png": "[encoded data removed]",
      "text/plain": [
       "<Figure size 417.5x360 with 1 Axes>"
      ]
     },
     "metadata": {
      "needs_background": "light"
     },
     "output_type": "display_data"
    },
    {
     "name": "stdout",
     "output_type": "stream",
     "text": [
      "Волгоград\n",
      "\n"
     ]
    },
    {
     "data": {
      "image/png": "[encoded data removed]",
      "text/plain": [
       "<Figure size 417.5x360 with 1 Axes>"
      ]
     },
     "metadata": {
      "needs_background": "light"
     },
     "output_type": "display_data"
    },
    {
     "name": "stdout",
     "output_type": "stream",
     "text": [
      "Гипотеза НО не подтверждается:средние не равны\n",
      "Разница средних= 312.89040013337035\n",
      "Гипотеза НО подтверждается:средние равны\n",
      "Разница средних=0\n",
      "Номер торговой точки = 66.0\n"
     ]
    },
    {
     "data": {
      "image/png": "[encoded data removed]",
      "text/plain": [
       "<Figure size 417.5x360 with 1 Axes>"
      ]
     },
     "metadata": {
      "needs_background": "light"
     },
     "output_type": "display_data"
    },
    {
     "name": "stdout",
     "output_type": "stream",
     "text": [
      "Казань\n",
      "\n"
     ]
    },
    {
     "data": {
      "image/png": "[encoded data removed]",
      "text/plain": [
       "<Figure size 417.5x360 with 1 Axes>"
      ]
     },
     "metadata": {
      "needs_background": "light"
     },
     "output_type": "display_data"
    },
    {
     "name": "stdout",
     "output_type": "stream",
     "text": [
      "Гипотеза НО подтверждается:средние равны\n",
      "Разница средних=0\n",
      "Гипотеза НО подтверждается:средние равны\n",
      "Разница средних=0\n",
      "Номер торговой точки = 477.0\n"
     ]
    },
    {
     "data": {
      "image/png": "[encoded data removed]",
      "text/plain": [
       "<Figure size 417.5x360 with 1 Axes>"
      ]
     },
     "metadata": {
      "needs_background": "light"
     },
     "output_type": "display_data"
    },
    {
     "name": "stdout",
     "output_type": "stream",
     "text": [
      "Номер торговой точки = 439.0\n"
     ]
    },
    {
     "data": {
      "image/png": "[encoded data removed]",
      "text/plain": [
       "<Figure size 417.5x360 with 1 Axes>"
      ]
     },
     "metadata": {
      "needs_background": "light"
     },
     "output_type": "display_data"
    },
    {
     "name": "stdout",
     "output_type": "stream",
     "text": [
      "Номер торговой точки = 544.0\n"
     ]
    },
    {
     "data": {
      "image/png": "[encoded data removed]",
      "text/plain": [
       "<Figure size 417.5x360 with 1 Axes>"
      ]
     },
     "metadata": {
      "needs_background": "light"
     },
     "output_type": "display_data"
    },
    {
     "name": "stdout",
     "output_type": "stream",
     "text": [
      "Номер торговой точки = 699.0\n"
     ]
    },
    {
     "data": {
      "image/png": "[encoded data removed]",
      "text/plain": [
       "<Figure size 417.5x360 with 1 Axes>"
      ]
     },
     "metadata": {
      "needs_background": "light"
     },
     "output_type": "display_data"
    },
    {
     "name": "stdout",
     "output_type": "stream",
     "text": [
      "Номер торговой точки = 991.0\n"
     ]
    },
    {
     "data": {
      "image/png": "[encoded data removed]",
      "text/plain": [
       "<Figure size 417.5x360 with 1 Axes>"
      ]
     },
     "metadata": {
      "needs_background": "light"
     },
     "output_type": "display_data"
    },
    {
     "name": "stdout",
     "output_type": "stream",
     "text": [
      "Номер торговой точки = 516.0\n"
     ]
    },
    {
     "data": {
      "image/png": "[encoded data removed]",
      "text/plain": [
       "<Figure size 417.5x360 with 1 Axes>"
      ]
     },
     "metadata": {
      "needs_background": "light"
     },
     "output_type": "display_data"
    },
    {
     "name": "stdout",
     "output_type": "stream",
     "text": [
      "Сочи\n",
      "\n"
     ]
    },
    {
     "data": {
      "image/png": "[encoded data removed]",
      "text/plain": [
       "<Figure size 417.5x360 with 1 Axes>"
      ]
     },
     "metadata": {
      "needs_background": "light"
     },
     "output_type": "display_data"
    },
    {
     "name": "stdout",
     "output_type": "stream",
     "text": [
      "Гипотеза НО подтверждается:средние равны\n",
      "Разница средних=0\n",
      "Гипотеза НО не подтверждается:средние не равны\n",
      "Разница средних= 0.04931605920420967\n",
      "Номер торговой точки = 72.0\n"
     ]
    },
    {
     "data": {
      "image/png": "[encoded data removed]",
      "text/plain": [
       "<Figure size 417.5x360 with 1 Axes>"
      ]
     },
     "metadata": {
      "needs_background": "light"
     },
     "output_type": "display_data"
    },
    {
     "name": "stdout",
     "output_type": "stream",
     "text": [
      "Номер торговой точки = 73.0\n"
     ]
    },
    {
     "data": {
      "image/png": "[encoded data removed]",
      "text/plain": [
       "<Figure size 417.5x360 with 1 Axes>"
      ]
     },
     "metadata": {
      "needs_background": "light"
     },
     "output_type": "display_data"
    },
    {
     "name": "stdout",
     "output_type": "stream",
     "text": [
      "Сахалинск\n",
      "\n"
     ]
    },
    {
     "data": {
      "image/png": "[encoded data removed]",
      "text/plain": [
       "<Figure size 417.5x360 with 1 Axes>"
      ]
     },
     "metadata": {
      "needs_background": "light"
     },
     "output_type": "display_data"
    },
    {
     "name": "stdout",
     "output_type": "stream",
     "text": [
      "Гипотеза НО подтверждается:средние равны\n",
      "Разница средних=0\n",
      "Гипотеза НО подтверждается:средние равны\n",
      "Разница средних=0\n",
      "Номер торговой точки = 69.0\n"
     ]
    },
    {
     "data": {
      "image/png": "[encoded data removed]",
      "text/plain": [
       "<Figure size 417.5x360 with 1 Axes>"
      ]
     },
     "metadata": {
      "needs_background": "light"
     },
     "output_type": "display_data"
    },
    {
     "name": "stdout",
     "output_type": "stream",
     "text": [
      "Владимир\n",
      "\n"
     ]
    },
    {
     "data": {
      "image/png": "[encoded data removed]",
      "text/plain": [
       "<Figure size 417.5x360 with 1 Axes>"
      ]
     },
     "metadata": {
      "needs_background": "light"
     },
     "output_type": "display_data"
    },
    {
     "name": "stdout",
     "output_type": "stream",
     "text": [
      "Гипотеза НО не подтверждается:средние не равны\n",
      "Разница средних= -438.6098419243094\n",
      "Гипотеза НО подтверждается:средние равны\n",
      "Разница средних=0\n",
      "Номер торговой точки = 11.0\n"
     ]
    },
    {
     "data": {
      "image/png": "[encoded data removed]",
      "text/plain": [
       "<Figure size 417.5x360 with 1 Axes>"
      ]
     },
     "metadata": {
      "needs_background": "light"
     },
     "output_type": "display_data"
    },
    {
     "name": "stdout",
     "output_type": "stream",
     "text": [
      "Тюмень\n",
      "\n"
     ]
    },
    {
     "data": {
      "image/png": "[encoded data removed]",
      "text/plain": [
       "<Figure size 417.5x360 with 1 Axes>"
      ]
     },
     "metadata": {
      "needs_background": "light"
     },
     "output_type": "display_data"
    },
    {
     "name": "stdout",
     "output_type": "stream",
     "text": [
      "Гипотеза НО подтверждается:средние равны\n",
      "Разница средних=0\n",
      "Гипотеза НО не подтверждается:средние не равны\n",
      "Разница средних= -0.1463645943097998\n",
      "Номер торговой точки = 19.0\n"
     ]
    },
    {
     "data": {
      "image/png": "[encoded data removed]",
      "text/plain": [
       "<Figure size 417.5x360 with 1 Axes>"
      ]
     },
     "metadata": {
      "needs_background": "light"
     },
     "output_type": "display_data"
    },
    {
     "name": "stdout",
     "output_type": "stream",
     "text": [
      "Дмитров\n",
      "\n"
     ]
    },
    {
     "data": {
      "image/png": "[encoded data removed]",
      "text/plain": [
       "<Figure size 417.5x360 with 1 Axes>"
      ]
     },
     "metadata": {
      "needs_background": "light"
     },
     "output_type": "display_data"
    },
    {
     "name": "stdout",
     "output_type": "stream",
     "text": [
      "Гипотеза НО подтверждается:средние равны\n",
      "Разница средних=0\n",
      "Гипотеза НО подтверждается:средние равны\n",
      "Разница средних=0\n",
      "Номер торговой точки = 2.0\n"
     ]
    },
    {
     "data": {
      "image/png": "[encoded data removed]",
      "text/plain": [
       "<Figure size 417.5x360 with 1 Axes>"
      ]
     },
     "metadata": {
      "needs_background": "light"
     },
     "output_type": "display_data"
    },
    {
     "name": "stdout",
     "output_type": "stream",
     "text": [
      "Ростов-на-Дону\n",
      "\n"
     ]
    },
    {
     "data": {
      "image/png": "[encoded data removed]",
      "text/plain": [
       "<Figure size 360x360 with 1 Axes>"
      ]
     },
     "metadata": {
      "needs_background": "light"
     },
     "output_type": "display_data"
    },
    {
     "name": "stdout",
     "output_type": "stream",
     "text": [
      "Гипотеза НО подтверждается:средние равны\n",
      "Разница средних=0\n",
      "Гипотеза НО подтверждается:средние равны\n",
      "Разница средних=0\n",
      "Ростов Великий\n",
      "\n"
     ]
    },
    {
     "data": {
      "image/png": "[encoded data removed]",
      "text/plain": [
       "<Figure size 360x360 with 1 Axes>"
      ]
     },
     "metadata": {
      "needs_background": "light"
     },
     "output_type": "display_data"
    },
    {
     "name": "stdout",
     "output_type": "stream",
     "text": [
      "Гипотеза НО подтверждается:средние равны\n",
      "Разница средних=0\n",
      "Гипотеза НО подтверждается:средние равны\n",
      "Разница средних=0\n",
      "Великий Новгород\n",
      "\n"
     ]
    },
    {
     "data": {
      "image/png": "[encoded data removed]",
      "text/plain": [
       "<Figure size 360x360 with 1 Axes>"
      ]
     },
     "metadata": {
      "needs_background": "light"
     },
     "output_type": "display_data"
    },
    {
     "name": "stdout",
     "output_type": "stream",
     "text": [
      "Гипотеза НО подтверждается:средние равны\n",
      "Разница средних=0\n",
      "Гипотеза НО подтверждается:средние равны\n",
      "Разница средних=0\n",
      "Чехов\n",
      "\n"
     ]
    },
    {
     "data": {
      "image/png": "[encoded data removed]",
      "text/plain": [
       "<Figure size 360x360 with 1 Axes>"
      ]
     },
     "metadata": {
      "needs_background": "light"
     },
     "output_type": "display_data"
    },
    {
     "name": "stdout",
     "output_type": "stream",
     "text": [
      "Гипотеза НО подтверждается:средние равны\n",
      "Разница средних=0\n",
      "Гипотеза НО подтверждается:средние равны\n",
      "Разница средних=0\n",
      "Петрозаводск\n",
      "\n"
     ]
    },
    {
     "data": {
      "image/png": "[encoded data removed]",
      "text/plain": [
       "<Figure size 360x360 with 1 Axes>"
      ]
     },
     "metadata": {
      "needs_background": "light"
     },
     "output_type": "display_data"
    },
    {
     "name": "stdout",
     "output_type": "stream",
     "text": [
      "Гипотеза НО подтверждается:средние равны\n",
      "Разница средних=0\n",
      "Гипотеза НО подтверждается:средние равны\n",
      "Разница средних=0\n",
      "Нижний Новгород\n",
      "\n"
     ]
    },
    {
     "data": {
      "image/png": "[encoded data removed]",
      "text/plain": [
       "<Figure size 360x360 with 1 Axes>"
      ]
     },
     "metadata": {
      "needs_background": "light"
     },
     "output_type": "display_data"
    },
    {
     "name": "stdout",
     "output_type": "stream",
     "text": [
      "Гипотеза НО подтверждается:средние равны\n",
      "Разница средних=0\n",
      "Гипотеза НО подтверждается:средние равны\n",
      "Разница средних=0\n"
     ]
    }
   ],
   "source": [
    "for i in all_cities:\n",
    "    print(i)\n",
    "    print()\n",
    "    df_city=df_fin[df_fin['city']==i]\n",
    "    \n",
    "    sns.displot(df_city,x = 'amt_payment', hue = 'nflag_test')\n",
    "    plt.show()\n",
    "    \n",
    "    test_calc(df_city[df_city['nflag_test']==0]['amt_payment'],df_city[df_city['nflag_test']==1]['amt_payment'])\n",
    "    test_calc(df_city[df_city['nflag_test']==0]['nflag_paid'],df_city[df_city['nflag_test']==1]['nflag_paid'])\n",
    "    \n",
    "    for j in df_city['id_trading_point'].unique():\n",
    "        df_loc=df_city[df_city['id_trading_point']==j]\n",
    "        print(\"Номер торговой точки =\",j)\n",
    "        sns.displot(df_loc, x = 'amt_payment', hue = 'nflag_test')\n",
    "        plt.show()"
   ]
  },
  {
   "cell_type": "code",
   "execution_count": 83,
   "id": "29c2bffa-5c51-4b67-b1c6-32108c252563",
   "metadata": {},
   "outputs": [
    {
     "data": {
      "text/html": [
       "<div>\n",
       "<style scoped>\n",
       "    .dataframe tbody tr th:only-of-type {\n",
       "        vertical-align: middle;\n",
       "    }\n",
       "\n",
       "    .dataframe tbody tr th {\n",
       "        vertical-align: top;\n",
       "    }\n",
       "\n",
       "    .dataframe thead th {\n",
       "        text-align: right;\n",
       "    }\n",
       "</style>\n",
       "<table border=\"1\" class=\"dataframe\">\n",
       "  <thead>\n",
       "    <tr style=\"text-align: right;\">\n",
       "      <th></th>\n",
       "      <th>id_client</th>\n",
       "      <th>id_trading_point</th>\n",
       "      <th>city</th>\n",
       "      <th>id_order</th>\n",
       "      <th>amt_payment</th>\n",
       "      <th>dtime_ad</th>\n",
       "      <th>nflag_test</th>\n",
       "      <th>nflag_paid</th>\n",
       "    </tr>\n",
       "  </thead>\n",
       "  <tbody>\n",
       "    <tr>\n",
       "      <th>0</th>\n",
       "      <td>178561.0</td>\n",
       "      <td>453.0</td>\n",
       "      <td>Санкт-Петербург</td>\n",
       "      <td>1</td>\n",
       "      <td>3052.0</td>\n",
       "      <td>2022-06-03 02:47:49.183</td>\n",
       "      <td>0</td>\n",
       "      <td>1</td>\n",
       "    </tr>\n",
       "    <tr>\n",
       "      <th>1</th>\n",
       "      <td>178562.0</td>\n",
       "      <td>2652.0</td>\n",
       "      <td>Москва</td>\n",
       "      <td>1</td>\n",
       "      <td>2439.0</td>\n",
       "      <td>2022-06-03 02:51:21.878</td>\n",
       "      <td>0</td>\n",
       "      <td>1</td>\n",
       "    </tr>\n",
       "    <tr>\n",
       "      <th>2</th>\n",
       "      <td>178563.0</td>\n",
       "      <td>112.0</td>\n",
       "      <td>Санкт-Петербург</td>\n",
       "      <td>1</td>\n",
       "      <td>768.0</td>\n",
       "      <td>2022-06-03 02:52:10.616</td>\n",
       "      <td>1</td>\n",
       "      <td>1</td>\n",
       "    </tr>\n",
       "    <tr>\n",
       "      <th>6</th>\n",
       "      <td>178567.0</td>\n",
       "      <td>453.0</td>\n",
       "      <td>Санкт-Петербург</td>\n",
       "      <td>1</td>\n",
       "      <td>2663.0</td>\n",
       "      <td>2022-06-03 03:02:56.855</td>\n",
       "      <td>0</td>\n",
       "      <td>1</td>\n",
       "    </tr>\n",
       "    <tr>\n",
       "      <th>7</th>\n",
       "      <td>178568.0</td>\n",
       "      <td>3786.0</td>\n",
       "      <td>Москва</td>\n",
       "      <td>3</td>\n",
       "      <td>13537.0</td>\n",
       "      <td>2022-06-03 03:05:33.476</td>\n",
       "      <td>1</td>\n",
       "      <td>1</td>\n",
       "    </tr>\n",
       "    <tr>\n",
       "      <th>...</th>\n",
       "      <td>...</td>\n",
       "      <td>...</td>\n",
       "      <td>...</td>\n",
       "      <td>...</td>\n",
       "      <td>...</td>\n",
       "      <td>...</td>\n",
       "      <td>...</td>\n",
       "      <td>...</td>\n",
       "    </tr>\n",
       "    <tr>\n",
       "      <th>55351</th>\n",
       "      <td>331949.0</td>\n",
       "      <td>573.0</td>\n",
       "      <td>Санкт-Петербург</td>\n",
       "      <td>0</td>\n",
       "      <td>0.0</td>\n",
       "      <td>2022-07-15 10:07:09.632</td>\n",
       "      <td>1</td>\n",
       "      <td>0</td>\n",
       "    </tr>\n",
       "    <tr>\n",
       "      <th>55352</th>\n",
       "      <td>331950.0</td>\n",
       "      <td>1654.0</td>\n",
       "      <td>Москва</td>\n",
       "      <td>0</td>\n",
       "      <td>0.0</td>\n",
       "      <td>2022-07-18 03:10:18.517</td>\n",
       "      <td>1</td>\n",
       "      <td>0</td>\n",
       "    </tr>\n",
       "    <tr>\n",
       "      <th>55353</th>\n",
       "      <td>331954.0</td>\n",
       "      <td>544.0</td>\n",
       "      <td>Казань</td>\n",
       "      <td>0</td>\n",
       "      <td>0.0</td>\n",
       "      <td>2022-07-08 12:45:17.300</td>\n",
       "      <td>0</td>\n",
       "      <td>0</td>\n",
       "    </tr>\n",
       "    <tr>\n",
       "      <th>55354</th>\n",
       "      <td>331955.0</td>\n",
       "      <td>72.0</td>\n",
       "      <td>Сочи</td>\n",
       "      <td>0</td>\n",
       "      <td>0.0</td>\n",
       "      <td>2022-08-12 03:15:49.011</td>\n",
       "      <td>0</td>\n",
       "      <td>0</td>\n",
       "    </tr>\n",
       "    <tr>\n",
       "      <th>55355</th>\n",
       "      <td>331964.0</td>\n",
       "      <td>202.0</td>\n",
       "      <td>Красноярск</td>\n",
       "      <td>0</td>\n",
       "      <td>0.0</td>\n",
       "      <td>2022-07-17 08:35:50.511</td>\n",
       "      <td>0</td>\n",
       "      <td>0</td>\n",
       "    </tr>\n",
       "  </tbody>\n",
       "</table>\n",
       "<p>45318 rows × 8 columns</p>\n",
       "</div>"
      ],
      "text/plain": [
       "       id_client  id_trading_point             city  id_order  amt_payment  \\\n",
       "0       178561.0             453.0  Санкт-Петербург         1       3052.0   \n",
       "1       178562.0            2652.0           Москва         1       2439.0   \n",
       "2       178563.0             112.0  Санкт-Петербург         1        768.0   \n",
       "6       178567.0             453.0  Санкт-Петербург         1       2663.0   \n",
       "7       178568.0            3786.0           Москва         3      13537.0   \n",
       "...          ...               ...              ...       ...          ...   \n",
       "55351   331949.0             573.0  Санкт-Петербург         0          0.0   \n",
       "55352   331950.0            1654.0           Москва         0          0.0   \n",
       "55353   331954.0             544.0           Казань         0          0.0   \n",
       "55354   331955.0              72.0             Сочи         0          0.0   \n",
       "55355   331964.0             202.0       Красноярск         0          0.0   \n",
       "\n",
       "                     dtime_ad  nflag_test  nflag_paid  \n",
       "0     2022-06-03 02:47:49.183           0           1  \n",
       "1     2022-06-03 02:51:21.878           0           1  \n",
       "2     2022-06-03 02:52:10.616           1           1  \n",
       "6     2022-06-03 03:02:56.855           0           1  \n",
       "7     2022-06-03 03:05:33.476           1           1  \n",
       "...                       ...         ...         ...  \n",
       "55351 2022-07-15 10:07:09.632           1           0  \n",
       "55352 2022-07-18 03:10:18.517           1           0  \n",
       "55353 2022-07-08 12:45:17.300           0           0  \n",
       "55354 2022-08-12 03:15:49.011           0           0  \n",
       "55355 2022-07-17 08:35:50.511           0           0  \n",
       "\n",
       "[45318 rows x 8 columns]"
      ]
     },
     "execution_count": 83,
     "metadata": {},
     "output_type": "execute_result"
    }
   ],
   "source": [
    "## 7.Отчет по АБ Тесту\n",
    "df_fin"
   ]
  },
  {
   "cell_type": "code",
   "execution_count": 84,
   "id": "18c7dc48-1920-4420-8c60-7c846c358f5e",
   "metadata": {},
   "outputs": [
    {
     "name": "stdout",
     "output_type": "stream",
     "text": [
      "Гипотеза НО подтверждается:средние равны\n",
      "Разница средних=0\n",
      "Гипотеза НО подтверждается:средние равны\n",
      "Разница средних=0\n",
      "Распределения равны\n",
      "Гипотеза НО подтверждается:средние равны\n",
      "Разница средних=0\n",
      "Гипотеза НО подтверждается:средние равны\n",
      "Разница средних=0\n",
      "Распределения равны\n",
      "Гипотеза НО подтверждается:средние равны\n",
      "Разница средних=0\n",
      "Гипотеза НО подтверждается:средние равны\n",
      "Разница средних=0\n",
      "Распределения равны\n",
      "Гипотеза НО подтверждается:средние равны\n",
      "Разница средних=0\n",
      "Гипотеза НО подтверждается:средние равны\n",
      "Разница средних=0\n",
      "Распределения равны\n",
      "Гипотеза НО подтверждается:средние равны\n",
      "Разница средних=0\n",
      "Гипотеза НО подтверждается:средние равны\n",
      "Разница средних=0\n",
      "Распределения равны\n",
      "Гипотеза НО подтверждается:средние равны\n",
      "Разница средних=0\n",
      "Гипотеза НО подтверждается:средние равны\n",
      "Разница средних=0\n",
      "Распределения равны\n",
      "Гипотеза НО подтверждается:средние равны\n",
      "Разница средних=0\n",
      "Гипотеза НО подтверждается:средние равны\n",
      "Разница средних=0\n",
      "Распределения равны\n",
      "Гипотеза НО подтверждается:средние равны\n",
      "Разница средних=0\n",
      "Гипотеза НО подтверждается:средние равны\n",
      "Разница средних=0\n",
      "Распределения равны\n",
      "Гипотеза НО не подтверждается:средние не равны\n",
      "Разница средних= 676.6951977401131\n",
      "Гипотеза НО не подтверждается:средние не равны\n",
      "Разница средних= 0.1458686440677966\n",
      "Распределения не равны\n",
      "Гипотеза НО подтверждается:средние равны\n",
      "Разница средних=0\n",
      "Гипотеза НО подтверждается:средние равны\n",
      "Разница средних=0\n",
      "Распределения равны\n",
      "Гипотеза НО подтверждается:средние равны\n",
      "Разница средних=0\n",
      "Гипотеза НО подтверждается:средние равны\n",
      "Разница средних=0\n",
      "Распределения равны\n",
      "Гипотеза НО не подтверждается:средние не равны\n",
      "Разница средних= 533.7691266583877\n",
      "Гипотеза НО не подтверждается:средние не равны\n",
      "Разница средних= 0.1083107326698855\n",
      "Распределения не равны\n",
      "Гипотеза НО подтверждается:средние равны\n",
      "Разница средних=0\n",
      "Гипотеза НО подтверждается:средние равны\n",
      "Разница средних=0\n",
      "Распределения равны\n",
      "Гипотеза НО не подтверждается:средние не равны\n",
      "Разница средних= 733.901294571883\n",
      "Гипотеза НО не подтверждается:средние не равны\n",
      "Разница средних= 0.19000681353622534\n",
      "Распределения не равны\n",
      "Гипотеза НО не подтверждается:средние не равны\n",
      "Разница средних= 624.4151754208888\n",
      "Гипотеза НО подтверждается:средние равны\n",
      "Разница средних=0\n",
      "Распределения не равны\n",
      "Гипотеза НО подтверждается:средние равны\n",
      "Разница средних=0\n",
      "Гипотеза НО подтверждается:средние равны\n",
      "Разница средних=0\n",
      "Распределения равны\n",
      "Гипотеза НО подтверждается:средние равны\n",
      "Разница средних=0\n",
      "Гипотеза НО подтверждается:средние равны\n",
      "Разница средних=0\n",
      "Распределения равны\n",
      "Гипотеза НО подтверждается:средние равны\n",
      "Разница средних=0\n",
      "Гипотеза НО подтверждается:средние равны\n",
      "Разница средних=0\n",
      "Распределения равны\n",
      "Гипотеза НО подтверждается:средние равны\n",
      "Разница средних=0\n",
      "Гипотеза НО подтверждается:средние равны\n",
      "Разница средних=0\n",
      "Распределения равны\n",
      "Гипотеза НО подтверждается:средние равны\n",
      "Разница средних=0\n",
      "Гипотеза НО подтверждается:средние равны\n",
      "Разница средних=0\n",
      "Распределения равны\n",
      "Гипотеза НО не подтверждается:средние не равны\n",
      "Разница средних= 2276.966389145853\n",
      "Гипотеза НО не подтверждается:средние не равны\n",
      "Разница средних= 0.23435090965155725\n",
      "Распределения не равны\n",
      "Гипотеза НО не подтверждается:средние не равны\n",
      "Разница средних= -552.909116931444\n",
      "Гипотеза НО не подтверждается:средние не равны\n",
      "Разница средних= -0.15877105099947525\n",
      "Распределения не равны\n",
      "Гипотеза НО подтверждается:средние равны\n",
      "Разница средних=0\n",
      "Гипотеза НО подтверждается:средние равны\n",
      "Разница средних=0\n",
      "Распределения равны\n",
      "Гипотеза НО подтверждается:средние равны\n",
      "Разница средних=0\n",
      "Гипотеза НО подтверждается:средние равны\n",
      "Разница средних=0\n",
      "Распределения равны\n",
      "Гипотеза НО подтверждается:средние равны\n",
      "Разница средних=0\n",
      "Гипотеза НО подтверждается:средние равны\n",
      "Разница средних=0\n",
      "Распределения равны\n",
      "Гипотеза НО не подтверждается:средние не равны\n",
      "Разница средних= 438.6098419243094\n",
      "Гипотеза НО подтверждается:средние равны\n",
      "Разница средних=0\n",
      "Распределения не равны\n",
      "Гипотеза НО подтверждается:средние равны\n",
      "Разница средних=0\n",
      "Гипотеза НО подтверждается:средние равны\n",
      "Разница средних=0\n",
      "Распределения равны\n",
      "Гипотеза НО подтверждается:средние равны\n",
      "Разница средних=0\n",
      "Гипотеза НО подтверждается:средние равны\n",
      "Разница средних=0\n",
      "Распределения равны\n",
      "Гипотеза НО подтверждается:средние равны\n",
      "Разница средних=0\n",
      "Гипотеза НО подтверждается:средние равны\n",
      "Разница средних=0\n",
      "Распределения равны\n",
      "Гипотеза НО подтверждается:средние равны\n",
      "Разница средних=0\n",
      "Гипотеза НО подтверждается:средние равны\n",
      "Разница средних=0\n",
      "Распределения равны\n",
      "Гипотеза НО подтверждается:средние равны\n",
      "Разница средних=0\n",
      "Гипотеза НО подтверждается:средние равны\n",
      "Разница средних=0\n",
      "Распределения равны\n",
      "Гипотеза НО подтверждается:средние равны\n",
      "Разница средних=0\n",
      "Гипотеза НО подтверждается:средние равны\n",
      "Разница средних=0\n",
      "Распределения равны\n",
      "Гипотеза НО подтверждается:средние равны\n",
      "Разница средних=0\n",
      "Гипотеза НО подтверждается:средние равны\n",
      "Разница средних=0\n",
      "Распределения равны\n",
      "Гипотеза НО подтверждается:средние равны\n",
      "Разница средних=0\n",
      "Гипотеза НО подтверждается:средние равны\n",
      "Разница средних=0\n",
      "Распределения равны\n",
      "Гипотеза НО подтверждается:средние равны\n",
      "Разница средних=0\n",
      "Гипотеза НО подтверждается:средние равны\n",
      "Разница средних=0\n",
      "Распределения равны\n",
      "Гипотеза НО подтверждается:средние равны\n",
      "Разница средних=0\n",
      "Гипотеза НО подтверждается:средние равны\n",
      "Разница средних=0\n",
      "Распределения равны\n",
      "Гипотеза НО подтверждается:средние равны\n",
      "Разница средних=0\n",
      "Гипотеза НО подтверждается:средние равны\n",
      "Разница средних=0\n",
      "Распределения равны\n",
      "Гипотеза НО не подтверждается:средние не равны\n",
      "Разница средних= 796.2950869236583\n",
      "Гипотеза НО подтверждается:средние равны\n",
      "Разница средних=0\n",
      "Распределения равны\n",
      "Гипотеза НО подтверждается:средние равны\n",
      "Разница средних=0\n",
      "Гипотеза НО подтверждается:средние равны\n",
      "Разница средних=0\n",
      "Распределения равны\n",
      "Гипотеза НО не подтверждается:средние не равны\n",
      "Разница средних= 2286.832230686982\n",
      "Гипотеза НО не подтверждается:средние не равны\n",
      "Разница средних= 0.3436246992782679\n",
      "Распределения не равны\n",
      "Гипотеза НО не подтверждается:средние не равны\n",
      "Разница средних= 1351.8979710144927\n",
      "Гипотеза НО не подтверждается:средние не равны\n",
      "Разница средних= 0.27831357048748356\n",
      "Распределения не равны\n",
      "Гипотеза НО не подтверждается:средние не равны\n",
      "Разница средних= 1253.3892475190287\n",
      "Гипотеза НО не подтверждается:средние не равны\n",
      "Разница средних= 0.24747085461027074\n",
      "Распределения не равны\n",
      "Гипотеза НО не подтверждается:средние не равны\n",
      "Разница средних= 1126.909804558497\n",
      "Гипотеза НО не подтверждается:средние не равны\n",
      "Разница средних= 0.22397271398408314\n",
      "Распределения не равны\n",
      "Гипотеза НО не подтверждается:средние не равны\n",
      "Разница средних= -312.89040013337035\n",
      "Гипотеза НО подтверждается:средние равны\n",
      "Разница средних=0\n",
      "Распределения не равны\n",
      "Гипотеза НО подтверждается:средние равны\n",
      "Разница средних=0\n",
      "Гипотеза НО подтверждается:средние равны\n",
      "Разница средних=0\n",
      "Распределения равны\n",
      "Гипотеза НО подтверждается:средние равны\n",
      "Разница средних=0\n",
      "Гипотеза НО подтверждается:средние равны\n",
      "Разница средних=0\n",
      "Распределения равны\n",
      "Гипотеза НО не подтверждается:средние не равны\n",
      "Разница средних= -347.5750045810032\n",
      "Гипотеза НО не подтверждается:средние не равны\n",
      "Разница средних= -0.05250342659034102\n",
      "Распределения не равны\n",
      "Гипотеза НО подтверждается:средние равны\n",
      "Разница средних=0\n",
      "Гипотеза НО подтверждается:средние равны\n",
      "Разница средних=0\n",
      "Распределения равны\n",
      "Гипотеза НО подтверждается:средние равны\n",
      "Разница средних=0\n",
      "Гипотеза НО подтверждается:средние равны\n",
      "Разница средних=0\n",
      "Распределения равны\n",
      "Гипотеза НО подтверждается:средние равны\n",
      "Разница средних=0\n",
      "Гипотеза НО не подтверждается:средние не равны\n",
      "Разница средних= 0.1463645943097998\n",
      "Распределения не равны\n",
      "Гипотеза НО подтверждается:средние равны\n",
      "Разница средних=0\n",
      "Гипотеза НО подтверждается:средние равны\n",
      "Разница средних=0\n",
      "Распределения равны\n"
     ]
    }
   ],
   "source": [
    "df_result = pd.DataFrame()\n",
    "\n",
    "for i in df_fin['city'].unique():\n",
    "    df_loc = df_fin[df_fin['city']==i]\n",
    "    \n",
    "    for j in df_loc['id_trading_point'].unique():\n",
    "        \n",
    "        df_loc_f      = df_loc[df_loc['id_trading_point']==j]\n",
    "        \n",
    "        count_test    = len(df_loc_f[df_loc_f['nflag_test']==1])\n",
    "        count_control = len(df_loc_f[df_loc_f['nflag_test']==0])\n",
    "        count_all     = count_test + count_control\n",
    "        sigma_test    = df_loc_f[df_loc_f['nflag_test']==1]['amt_payment'].std()\n",
    "        sigma_control = df_loc_f[df_loc_f['nflag_test']==0]['amt_payment'].std()\n",
    "        \n",
    "        avg_test    = np.mean(df_loc_f[df_loc_f['nflag_test']==1]['amt_payment'])\n",
    "        avg_control = np.mean(df_loc_f[df_loc_f['nflag_test']==0]['amt_payment'])\n",
    "        diff        = avg_test - avg_control\n",
    "        \n",
    "        s_a,p_a  = test_calc(df_loc_f[df_loc_f['nflag_test']==1]['amt_payment'], df_loc_f[df_loc_f['nflag_test']==0]['amt_payment'])\n",
    "        s_p,p_p  = test_calc(df_loc_f[df_loc_f['nflag_test']==1]['nflag_paid'], df_loc_f[df_loc_f['nflag_test']==0]['nflag_paid'])\n",
    "        m_s, m_p = mann_whitney_func(df_loc_f[df_loc_f['nflag_test']==1]['amt_payment'], df_loc_f[df_loc_f['nflag_test']==0]['amt_payment'])\n",
    "\n",
    "        df_result = df_result.append({  'city':i, 'id_trading_point':j\n",
    "                                        , 'count_test':count_test, 'count_control':count_control, 'count_all':count_all\n",
    "                                        , 'avg_test':avg_test, 'avg_control':avg_control\n",
    "                                        , 'sigma_test':sigma_test, 'sigma_control':sigma_control\n",
    "                                        , 'diff':diff  , 'abs_ttest_s':s_a, 'abs_ttest_p':p_a, 'pr_ttest_s':s_p \\\n",
    "                                      \n",
    "                                     }, ignore_index=True)"
   ]
  },
  {
   "cell_type": "code",
   "execution_count": 85,
   "id": "bcc62f13-e20f-45f6-963f-4acbba9a17f9",
   "metadata": {},
   "outputs": [
    {
     "data": {
      "text/html": [
       "<div>\n",
       "<style scoped>\n",
       "    .dataframe tbody tr th:only-of-type {\n",
       "        vertical-align: middle;\n",
       "    }\n",
       "\n",
       "    .dataframe tbody tr th {\n",
       "        vertical-align: top;\n",
       "    }\n",
       "\n",
       "    .dataframe thead th {\n",
       "        text-align: right;\n",
       "    }\n",
       "</style>\n",
       "<table border=\"1\" class=\"dataframe\">\n",
       "  <thead>\n",
       "    <tr style=\"text-align: right;\">\n",
       "      <th></th>\n",
       "      <th>city</th>\n",
       "      <th>id_trading_point</th>\n",
       "      <th>count_test</th>\n",
       "      <th>count_control</th>\n",
       "      <th>count_all</th>\n",
       "      <th>avg_test</th>\n",
       "      <th>avg_control</th>\n",
       "      <th>sigma_test</th>\n",
       "      <th>sigma_control</th>\n",
       "      <th>diff</th>\n",
       "      <th>abs_ttest_s</th>\n",
       "      <th>abs_ttest_p</th>\n",
       "      <th>pr_ttest_s</th>\n",
       "    </tr>\n",
       "  </thead>\n",
       "  <tbody>\n",
       "    <tr>\n",
       "      <th>0</th>\n",
       "      <td>Санкт-Петербург</td>\n",
       "      <td>453.0</td>\n",
       "      <td>1066.0</td>\n",
       "      <td>1049.0</td>\n",
       "      <td>2115.0</td>\n",
       "      <td>2501.966229</td>\n",
       "      <td>2420.415634</td>\n",
       "      <td>2993.442540</td>\n",
       "      <td>2890.088044</td>\n",
       "      <td>81.550595</td>\n",
       "      <td>0.637238</td>\n",
       "      <td>5.240386e-01</td>\n",
       "      <td>0.728421</td>\n",
       "    </tr>\n",
       "    <tr>\n",
       "      <th>1</th>\n",
       "      <td>Санкт-Петербург</td>\n",
       "      <td>112.0</td>\n",
       "      <td>652.0</td>\n",
       "      <td>683.0</td>\n",
       "      <td>1335.0</td>\n",
       "      <td>2488.115031</td>\n",
       "      <td>2776.241581</td>\n",
       "      <td>2778.179183</td>\n",
       "      <td>3057.040898</td>\n",
       "      <td>-288.126551</td>\n",
       "      <td>-1.799588</td>\n",
       "      <td>7.215174e-02</td>\n",
       "      <td>-1.039726</td>\n",
       "    </tr>\n",
       "    <tr>\n",
       "      <th>2</th>\n",
       "      <td>Санкт-Петербург</td>\n",
       "      <td>117.0</td>\n",
       "      <td>625.0</td>\n",
       "      <td>587.0</td>\n",
       "      <td>1212.0</td>\n",
       "      <td>2582.297600</td>\n",
       "      <td>2592.086882</td>\n",
       "      <td>2835.004503</td>\n",
       "      <td>2813.867330</td>\n",
       "      <td>-9.789282</td>\n",
       "      <td>-0.060294</td>\n",
       "      <td>9.519316e-01</td>\n",
       "      <td>-0.033579</td>\n",
       "    </tr>\n",
       "    <tr>\n",
       "      <th>3</th>\n",
       "      <td>Санкт-Петербург</td>\n",
       "      <td>309.0</td>\n",
       "      <td>240.0</td>\n",
       "      <td>238.0</td>\n",
       "      <td>478.0</td>\n",
       "      <td>2706.279167</td>\n",
       "      <td>3003.789916</td>\n",
       "      <td>2814.939849</td>\n",
       "      <td>3077.161555</td>\n",
       "      <td>-297.510749</td>\n",
       "      <td>-1.103047</td>\n",
       "      <td>2.705641e-01</td>\n",
       "      <td>-0.492541</td>\n",
       "    </tr>\n",
       "    <tr>\n",
       "      <th>4</th>\n",
       "      <td>Санкт-Петербург</td>\n",
       "      <td>576.0</td>\n",
       "      <td>630.0</td>\n",
       "      <td>657.0</td>\n",
       "      <td>1287.0</td>\n",
       "      <td>1594.436508</td>\n",
       "      <td>1760.296804</td>\n",
       "      <td>2683.727211</td>\n",
       "      <td>2815.093171</td>\n",
       "      <td>-165.860296</td>\n",
       "      <td>-1.080998</td>\n",
       "      <td>2.799008e-01</td>\n",
       "      <td>-0.944088</td>\n",
       "    </tr>\n",
       "    <tr>\n",
       "      <th>5</th>\n",
       "      <td>Санкт-Петербург</td>\n",
       "      <td>900.0</td>\n",
       "      <td>335.0</td>\n",
       "      <td>341.0</td>\n",
       "      <td>676.0</td>\n",
       "      <td>2450.991045</td>\n",
       "      <td>2299.768328</td>\n",
       "      <td>2865.607356</td>\n",
       "      <td>2878.774167</td>\n",
       "      <td>151.222716</td>\n",
       "      <td>0.684416</td>\n",
       "      <td>4.939479e-01</td>\n",
       "      <td>0.787685</td>\n",
       "    </tr>\n",
       "    <tr>\n",
       "      <th>6</th>\n",
       "      <td>Санкт-Петербург</td>\n",
       "      <td>213.0</td>\n",
       "      <td>232.0</td>\n",
       "      <td>255.0</td>\n",
       "      <td>487.0</td>\n",
       "      <td>2977.629310</td>\n",
       "      <td>2857.058824</td>\n",
       "      <td>2905.494362</td>\n",
       "      <td>2845.245598</td>\n",
       "      <td>120.570487</td>\n",
       "      <td>0.462369</td>\n",
       "      <td>6.440239e-01</td>\n",
       "      <td>-0.058097</td>\n",
       "    </tr>\n",
       "    <tr>\n",
       "      <th>7</th>\n",
       "      <td>Санкт-Петербург</td>\n",
       "      <td>801.0</td>\n",
       "      <td>225.0</td>\n",
       "      <td>212.0</td>\n",
       "      <td>437.0</td>\n",
       "      <td>2925.142222</td>\n",
       "      <td>2980.155660</td>\n",
       "      <td>2774.292063</td>\n",
       "      <td>3049.074475</td>\n",
       "      <td>-55.013438</td>\n",
       "      <td>-0.197457</td>\n",
       "      <td>8.435623e-01</td>\n",
       "      <td>-0.044896</td>\n",
       "    </tr>\n",
       "    <tr>\n",
       "      <th>8</th>\n",
       "      <td>Санкт-Петербург</td>\n",
       "      <td>573.0</td>\n",
       "      <td>177.0</td>\n",
       "      <td>160.0</td>\n",
       "      <td>337.0</td>\n",
       "      <td>2929.045198</td>\n",
       "      <td>2252.350000</td>\n",
       "      <td>3201.098137</td>\n",
       "      <td>2975.544726</td>\n",
       "      <td>676.695198</td>\n",
       "      <td>2.003598</td>\n",
       "      <td>4.591805e-02</td>\n",
       "      <td>2.713820</td>\n",
       "    </tr>\n",
       "    <tr>\n",
       "      <th>9</th>\n",
       "      <td>Санкт-Петербург</td>\n",
       "      <td>891.0</td>\n",
       "      <td>159.0</td>\n",
       "      <td>167.0</td>\n",
       "      <td>326.0</td>\n",
       "      <td>2618.949686</td>\n",
       "      <td>2495.455090</td>\n",
       "      <td>2899.782464</td>\n",
       "      <td>2893.862408</td>\n",
       "      <td>123.494596</td>\n",
       "      <td>0.384755</td>\n",
       "      <td>7.006710e-01</td>\n",
       "      <td>1.088194</td>\n",
       "    </tr>\n",
       "    <tr>\n",
       "      <th>10</th>\n",
       "      <td>Санкт-Петербург</td>\n",
       "      <td>394.0</td>\n",
       "      <td>104.0</td>\n",
       "      <td>85.0</td>\n",
       "      <td>189.0</td>\n",
       "      <td>1229.644231</td>\n",
       "      <td>1385.094118</td>\n",
       "      <td>2208.227840</td>\n",
       "      <td>2443.573192</td>\n",
       "      <td>-155.449887</td>\n",
       "      <td>-0.458857</td>\n",
       "      <td>6.468695e-01</td>\n",
       "      <td>0.026697</td>\n",
       "    </tr>\n",
       "    <tr>\n",
       "      <th>11</th>\n",
       "      <td>Москва</td>\n",
       "      <td>2652.0</td>\n",
       "      <td>2273.0</td>\n",
       "      <td>2370.0</td>\n",
       "      <td>4643.0</td>\n",
       "      <td>2506.616806</td>\n",
       "      <td>1972.847679</td>\n",
       "      <td>2842.182948</td>\n",
       "      <td>2565.878242</td>\n",
       "      <td>533.769127</td>\n",
       "      <td>6.722230</td>\n",
       "      <td>2.005922e-11</td>\n",
       "      <td>7.444251</td>\n",
       "    </tr>\n",
       "    <tr>\n",
       "      <th>12</th>\n",
       "      <td>Москва</td>\n",
       "      <td>3786.0</td>\n",
       "      <td>237.0</td>\n",
       "      <td>278.0</td>\n",
       "      <td>515.0</td>\n",
       "      <td>2613.683544</td>\n",
       "      <td>2688.230216</td>\n",
       "      <td>2712.235859</td>\n",
       "      <td>3292.937641</td>\n",
       "      <td>-74.546672</td>\n",
       "      <td>-0.277399</td>\n",
       "      <td>7.815857e-01</td>\n",
       "      <td>0.461322</td>\n",
       "    </tr>\n",
       "    <tr>\n",
       "      <th>13</th>\n",
       "      <td>Москва</td>\n",
       "      <td>1287.0</td>\n",
       "      <td>370.0</td>\n",
       "      <td>357.0</td>\n",
       "      <td>727.0</td>\n",
       "      <td>2128.556757</td>\n",
       "      <td>1394.655462</td>\n",
       "      <td>2437.376458</td>\n",
       "      <td>2338.461779</td>\n",
       "      <td>733.901295</td>\n",
       "      <td>4.140297</td>\n",
       "      <td>3.876566e-05</td>\n",
       "      <td>5.229288</td>\n",
       "    </tr>\n",
       "    <tr>\n",
       "      <th>14</th>\n",
       "      <td>Москва</td>\n",
       "      <td>1654.0</td>\n",
       "      <td>799.0</td>\n",
       "      <td>775.0</td>\n",
       "      <td>1574.0</td>\n",
       "      <td>3132.301627</td>\n",
       "      <td>2507.886452</td>\n",
       "      <td>3199.660200</td>\n",
       "      <td>2950.512888</td>\n",
       "      <td>624.415175</td>\n",
       "      <td>4.021739</td>\n",
       "      <td>6.050971e-05</td>\n",
       "      <td>1.000342</td>\n",
       "    </tr>\n",
       "    <tr>\n",
       "      <th>15</th>\n",
       "      <td>Москва</td>\n",
       "      <td>3987.0</td>\n",
       "      <td>801.0</td>\n",
       "      <td>785.0</td>\n",
       "      <td>1586.0</td>\n",
       "      <td>1602.995006</td>\n",
       "      <td>1639.857325</td>\n",
       "      <td>2518.829205</td>\n",
       "      <td>2686.317417</td>\n",
       "      <td>-36.862319</td>\n",
       "      <td>-0.281965</td>\n",
       "      <td>7.780070e-01</td>\n",
       "      <td>-0.474862</td>\n",
       "    </tr>\n",
       "    <tr>\n",
       "      <th>16</th>\n",
       "      <td>Москва</td>\n",
       "      <td>2212.0</td>\n",
       "      <td>422.0</td>\n",
       "      <td>397.0</td>\n",
       "      <td>819.0</td>\n",
       "      <td>2813.168246</td>\n",
       "      <td>2739.362720</td>\n",
       "      <td>3196.888861</td>\n",
       "      <td>2446.975036</td>\n",
       "      <td>73.805526</td>\n",
       "      <td>0.369337</td>\n",
       "      <td>7.119719e-01</td>\n",
       "      <td>-1.171433</td>\n",
       "    </tr>\n",
       "    <tr>\n",
       "      <th>17</th>\n",
       "      <td>Москва</td>\n",
       "      <td>8543.0</td>\n",
       "      <td>148.0</td>\n",
       "      <td>140.0</td>\n",
       "      <td>288.0</td>\n",
       "      <td>1859.777027</td>\n",
       "      <td>1804.250000</td>\n",
       "      <td>2568.980429</td>\n",
       "      <td>3015.726630</td>\n",
       "      <td>55.527027</td>\n",
       "      <td>0.168506</td>\n",
       "      <td>8.663044e-01</td>\n",
       "      <td>1.284455</td>\n",
       "    </tr>\n",
       "    <tr>\n",
       "      <th>18</th>\n",
       "      <td>Москва</td>\n",
       "      <td>6543.0</td>\n",
       "      <td>662.0</td>\n",
       "      <td>689.0</td>\n",
       "      <td>1351.0</td>\n",
       "      <td>1702.439577</td>\n",
       "      <td>1528.325109</td>\n",
       "      <td>2453.901717</td>\n",
       "      <td>2338.522063</td>\n",
       "      <td>174.114468</td>\n",
       "      <td>1.335377</td>\n",
       "      <td>1.819782e-01</td>\n",
       "      <td>0.550240</td>\n",
       "    </tr>\n",
       "    <tr>\n",
       "      <th>19</th>\n",
       "      <td>Москва</td>\n",
       "      <td>9121.0</td>\n",
       "      <td>131.0</td>\n",
       "      <td>108.0</td>\n",
       "      <td>239.0</td>\n",
       "      <td>1976.854962</td>\n",
       "      <td>1856.944444</td>\n",
       "      <td>2605.797427</td>\n",
       "      <td>2442.326166</td>\n",
       "      <td>119.910517</td>\n",
       "      <td>0.364183</td>\n",
       "      <td>7.160464e-01</td>\n",
       "      <td>-0.738123</td>\n",
       "    </tr>\n",
       "    <tr>\n",
       "      <th>20</th>\n",
       "      <td>Москва</td>\n",
       "      <td>1002.0</td>\n",
       "      <td>138.0</td>\n",
       "      <td>188.0</td>\n",
       "      <td>326.0</td>\n",
       "      <td>4121.753623</td>\n",
       "      <td>1844.787234</td>\n",
       "      <td>4084.263176</td>\n",
       "      <td>2436.536120</td>\n",
       "      <td>2276.966389</td>\n",
       "      <td>6.274622</td>\n",
       "      <td>1.122387e-09</td>\n",
       "      <td>4.304186</td>\n",
       "    </tr>\n",
       "    <tr>\n",
       "      <th>21</th>\n",
       "      <td>Москва</td>\n",
       "      <td>9931.0</td>\n",
       "      <td>153.0</td>\n",
       "      <td>137.0</td>\n",
       "      <td>290.0</td>\n",
       "      <td>1415.784314</td>\n",
       "      <td>1968.693431</td>\n",
       "      <td>2038.164247</td>\n",
       "      <td>2403.397857</td>\n",
       "      <td>-552.909117</td>\n",
       "      <td>-2.119197</td>\n",
       "      <td>3.492947e-02</td>\n",
       "      <td>-2.749104</td>\n",
       "    </tr>\n",
       "    <tr>\n",
       "      <th>22</th>\n",
       "      <td>Саратов</td>\n",
       "      <td>80.0</td>\n",
       "      <td>844.0</td>\n",
       "      <td>880.0</td>\n",
       "      <td>1724.0</td>\n",
       "      <td>2517.330569</td>\n",
       "      <td>2511.972727</td>\n",
       "      <td>2797.123033</td>\n",
       "      <td>2824.719932</td>\n",
       "      <td>5.357841</td>\n",
       "      <td>0.039558</td>\n",
       "      <td>9.684500e-01</td>\n",
       "      <td>0.571769</td>\n",
       "    </tr>\n",
       "    <tr>\n",
       "      <th>23</th>\n",
       "      <td>Саратов</td>\n",
       "      <td>82.0</td>\n",
       "      <td>169.0</td>\n",
       "      <td>229.0</td>\n",
       "      <td>398.0</td>\n",
       "      <td>2586.011834</td>\n",
       "      <td>2655.672489</td>\n",
       "      <td>2676.435563</td>\n",
       "      <td>2929.363686</td>\n",
       "      <td>-69.660655</td>\n",
       "      <td>-0.243173</td>\n",
       "      <td>8.079974e-01</td>\n",
       "      <td>0.432293</td>\n",
       "    </tr>\n",
       "    <tr>\n",
       "      <th>24</th>\n",
       "      <td>Тольятти</td>\n",
       "      <td>88.0</td>\n",
       "      <td>190.0</td>\n",
       "      <td>167.0</td>\n",
       "      <td>357.0</td>\n",
       "      <td>2902.410526</td>\n",
       "      <td>2439.461078</td>\n",
       "      <td>3074.648887</td>\n",
       "      <td>2689.343053</td>\n",
       "      <td>462.949448</td>\n",
       "      <td>1.504556</td>\n",
       "      <td>1.333273e-01</td>\n",
       "      <td>1.185144</td>\n",
       "    </tr>\n",
       "    <tr>\n",
       "      <th>25</th>\n",
       "      <td>Владимир</td>\n",
       "      <td>11.0</td>\n",
       "      <td>509.0</td>\n",
       "      <td>608.0</td>\n",
       "      <td>1117.0</td>\n",
       "      <td>2547.220039</td>\n",
       "      <td>2108.610197</td>\n",
       "      <td>3023.702164</td>\n",
       "      <td>2663.038392</td>\n",
       "      <td>438.609842</td>\n",
       "      <td>2.576955</td>\n",
       "      <td>1.009511e-02</td>\n",
       "      <td>1.724937</td>\n",
       "    </tr>\n",
       "    <tr>\n",
       "      <th>26</th>\n",
       "      <td>Мурманск</td>\n",
       "      <td>55.0</td>\n",
       "      <td>422.0</td>\n",
       "      <td>425.0</td>\n",
       "      <td>847.0</td>\n",
       "      <td>2109.106635</td>\n",
       "      <td>2111.272941</td>\n",
       "      <td>2790.993385</td>\n",
       "      <td>2804.223188</td>\n",
       "      <td>-2.166306</td>\n",
       "      <td>-0.011268</td>\n",
       "      <td>9.910125e-01</td>\n",
       "      <td>1.131579</td>\n",
       "    </tr>\n",
       "    <tr>\n",
       "      <th>27</th>\n",
       "      <td>Мурманск</td>\n",
       "      <td>54.0</td>\n",
       "      <td>633.0</td>\n",
       "      <td>640.0</td>\n",
       "      <td>1273.0</td>\n",
       "      <td>1702.714060</td>\n",
       "      <td>1688.512500</td>\n",
       "      <td>2565.132440</td>\n",
       "      <td>2628.012490</td>\n",
       "      <td>14.201560</td>\n",
       "      <td>0.097556</td>\n",
       "      <td>9.223005e-01</td>\n",
       "      <td>0.155600</td>\n",
       "    </tr>\n",
       "    <tr>\n",
       "      <th>28</th>\n",
       "      <td>Красноярск</td>\n",
       "      <td>212.0</td>\n",
       "      <td>593.0</td>\n",
       "      <td>575.0</td>\n",
       "      <td>1168.0</td>\n",
       "      <td>2144.317032</td>\n",
       "      <td>2222.052174</td>\n",
       "      <td>2708.588724</td>\n",
       "      <td>2785.116250</td>\n",
       "      <td>-77.735142</td>\n",
       "      <td>-0.483585</td>\n",
       "      <td>6.287709e-01</td>\n",
       "      <td>0.450975</td>\n",
       "    </tr>\n",
       "    <tr>\n",
       "      <th>29</th>\n",
       "      <td>Красноярск</td>\n",
       "      <td>277.0</td>\n",
       "      <td>708.0</td>\n",
       "      <td>709.0</td>\n",
       "      <td>1417.0</td>\n",
       "      <td>2285.750000</td>\n",
       "      <td>2431.365303</td>\n",
       "      <td>2712.677878</td>\n",
       "      <td>2868.587569</td>\n",
       "      <td>-145.615303</td>\n",
       "      <td>-0.981705</td>\n",
       "      <td>3.264128e-01</td>\n",
       "      <td>-0.344097</td>\n",
       "    </tr>\n",
       "    <tr>\n",
       "      <th>30</th>\n",
       "      <td>Красноярск</td>\n",
       "      <td>202.0</td>\n",
       "      <td>551.0</td>\n",
       "      <td>565.0</td>\n",
       "      <td>1116.0</td>\n",
       "      <td>2927.341198</td>\n",
       "      <td>2730.378761</td>\n",
       "      <td>2956.686241</td>\n",
       "      <td>2737.885785</td>\n",
       "      <td>196.962437</td>\n",
       "      <td>1.155073</td>\n",
       "      <td>2.483083e-01</td>\n",
       "      <td>-0.625387</td>\n",
       "    </tr>\n",
       "    <tr>\n",
       "      <th>31</th>\n",
       "      <td>Красноярск</td>\n",
       "      <td>444.0</td>\n",
       "      <td>650.0</td>\n",
       "      <td>562.0</td>\n",
       "      <td>1212.0</td>\n",
       "      <td>2404.106154</td>\n",
       "      <td>2545.734875</td>\n",
       "      <td>2810.828487</td>\n",
       "      <td>2797.138764</td>\n",
       "      <td>-141.628722</td>\n",
       "      <td>-0.876740</td>\n",
       "      <td>3.808017e-01</td>\n",
       "      <td>-0.748236</td>\n",
       "    </tr>\n",
       "    <tr>\n",
       "      <th>32</th>\n",
       "      <td>Красноярск</td>\n",
       "      <td>278.0</td>\n",
       "      <td>535.0</td>\n",
       "      <td>489.0</td>\n",
       "      <td>1024.0</td>\n",
       "      <td>2499.345794</td>\n",
       "      <td>2185.214724</td>\n",
       "      <td>2915.995329</td>\n",
       "      <td>2574.915597</td>\n",
       "      <td>314.131070</td>\n",
       "      <td>1.820268</td>\n",
       "      <td>6.901056e-02</td>\n",
       "      <td>0.822651</td>\n",
       "    </tr>\n",
       "    <tr>\n",
       "      <th>33</th>\n",
       "      <td>Казань</td>\n",
       "      <td>477.0</td>\n",
       "      <td>382.0</td>\n",
       "      <td>386.0</td>\n",
       "      <td>768.0</td>\n",
       "      <td>2259.623037</td>\n",
       "      <td>2496.987047</td>\n",
       "      <td>3482.846094</td>\n",
       "      <td>3881.994719</td>\n",
       "      <td>-237.364010</td>\n",
       "      <td>-0.891593</td>\n",
       "      <td>3.728909e-01</td>\n",
       "      <td>-0.309729</td>\n",
       "    </tr>\n",
       "    <tr>\n",
       "      <th>34</th>\n",
       "      <td>Казань</td>\n",
       "      <td>439.0</td>\n",
       "      <td>355.0</td>\n",
       "      <td>351.0</td>\n",
       "      <td>706.0</td>\n",
       "      <td>2481.960563</td>\n",
       "      <td>2400.635328</td>\n",
       "      <td>4040.441007</td>\n",
       "      <td>3722.117072</td>\n",
       "      <td>81.325236</td>\n",
       "      <td>0.278067</td>\n",
       "      <td>7.810423e-01</td>\n",
       "      <td>-0.437119</td>\n",
       "    </tr>\n",
       "    <tr>\n",
       "      <th>35</th>\n",
       "      <td>Казань</td>\n",
       "      <td>544.0</td>\n",
       "      <td>377.0</td>\n",
       "      <td>416.0</td>\n",
       "      <td>793.0</td>\n",
       "      <td>2621.427056</td>\n",
       "      <td>2635.548077</td>\n",
       "      <td>3714.894751</td>\n",
       "      <td>4639.820746</td>\n",
       "      <td>-14.121021</td>\n",
       "      <td>-0.046997</td>\n",
       "      <td>9.625274e-01</td>\n",
       "      <td>1.202226</td>\n",
       "    </tr>\n",
       "    <tr>\n",
       "      <th>36</th>\n",
       "      <td>Казань</td>\n",
       "      <td>699.0</td>\n",
       "      <td>482.0</td>\n",
       "      <td>494.0</td>\n",
       "      <td>976.0</td>\n",
       "      <td>2422.286307</td>\n",
       "      <td>2574.352227</td>\n",
       "      <td>3906.817897</td>\n",
       "      <td>4082.851356</td>\n",
       "      <td>-152.065920</td>\n",
       "      <td>-0.594254</td>\n",
       "      <td>5.524804e-01</td>\n",
       "      <td>-1.514639</td>\n",
       "    </tr>\n",
       "    <tr>\n",
       "      <th>37</th>\n",
       "      <td>Казань</td>\n",
       "      <td>991.0</td>\n",
       "      <td>270.0</td>\n",
       "      <td>294.0</td>\n",
       "      <td>564.0</td>\n",
       "      <td>3249.281481</td>\n",
       "      <td>2452.986395</td>\n",
       "      <td>4719.592601</td>\n",
       "      <td>3633.935858</td>\n",
       "      <td>796.295087</td>\n",
       "      <td>2.255258</td>\n",
       "      <td>2.450100e-02</td>\n",
       "      <td>1.260334</td>\n",
       "    </tr>\n",
       "    <tr>\n",
       "      <th>38</th>\n",
       "      <td>Казань</td>\n",
       "      <td>516.0</td>\n",
       "      <td>634.0</td>\n",
       "      <td>636.0</td>\n",
       "      <td>1270.0</td>\n",
       "      <td>3237.200315</td>\n",
       "      <td>2880.484277</td>\n",
       "      <td>4537.103842</td>\n",
       "      <td>3819.292813</td>\n",
       "      <td>356.716039</td>\n",
       "      <td>1.515887</td>\n",
       "      <td>1.297971e-01</td>\n",
       "      <td>0.623463</td>\n",
       "    </tr>\n",
       "    <tr>\n",
       "      <th>39</th>\n",
       "      <td>Самара</td>\n",
       "      <td>33.0</td>\n",
       "      <td>232.0</td>\n",
       "      <td>258.0</td>\n",
       "      <td>490.0</td>\n",
       "      <td>4598.219828</td>\n",
       "      <td>2311.387597</td>\n",
       "      <td>2931.234926</td>\n",
       "      <td>2371.771296</td>\n",
       "      <td>2286.832231</td>\n",
       "      <td>9.532838</td>\n",
       "      <td>7.222519e-20</td>\n",
       "      <td>9.815872</td>\n",
       "    </tr>\n",
       "    <tr>\n",
       "      <th>40</th>\n",
       "      <td>Самара</td>\n",
       "      <td>34.0</td>\n",
       "      <td>225.0</td>\n",
       "      <td>253.0</td>\n",
       "      <td>478.0</td>\n",
       "      <td>3104.506667</td>\n",
       "      <td>1752.608696</td>\n",
       "      <td>2956.826915</td>\n",
       "      <td>2529.700798</td>\n",
       "      <td>1351.897971</td>\n",
       "      <td>5.386265</td>\n",
       "      <td>1.132779e-07</td>\n",
       "      <td>6.339267</td>\n",
       "    </tr>\n",
       "    <tr>\n",
       "      <th>41</th>\n",
       "      <td>Самара</td>\n",
       "      <td>35.0</td>\n",
       "      <td>214.0</td>\n",
       "      <td>194.0</td>\n",
       "      <td>408.0</td>\n",
       "      <td>2762.224299</td>\n",
       "      <td>1508.835052</td>\n",
       "      <td>2977.083547</td>\n",
       "      <td>2184.808094</td>\n",
       "      <td>1253.389248</td>\n",
       "      <td>4.806666</td>\n",
       "      <td>2.164676e-06</td>\n",
       "      <td>5.151041</td>\n",
       "    </tr>\n",
       "    <tr>\n",
       "      <th>42</th>\n",
       "      <td>Самара</td>\n",
       "      <td>36.0</td>\n",
       "      <td>131.0</td>\n",
       "      <td>141.0</td>\n",
       "      <td>272.0</td>\n",
       "      <td>1987.328244</td>\n",
       "      <td>860.418440</td>\n",
       "      <td>2718.502663</td>\n",
       "      <td>1840.826639</td>\n",
       "      <td>1126.909805</td>\n",
       "      <td>4.027951</td>\n",
       "      <td>7.318758e-05</td>\n",
       "      <td>3.989239</td>\n",
       "    </tr>\n",
       "    <tr>\n",
       "      <th>43</th>\n",
       "      <td>Волгоград</td>\n",
       "      <td>66.0</td>\n",
       "      <td>657.0</td>\n",
       "      <td>703.0</td>\n",
       "      <td>1360.0</td>\n",
       "      <td>2288.870624</td>\n",
       "      <td>2601.761024</td>\n",
       "      <td>2682.567610</td>\n",
       "      <td>2830.193773</td>\n",
       "      <td>-312.890400</td>\n",
       "      <td>-2.089272</td>\n",
       "      <td>3.686900e-02</td>\n",
       "      <td>-1.622217</td>\n",
       "    </tr>\n",
       "    <tr>\n",
       "      <th>44</th>\n",
       "      <td>Сочи</td>\n",
       "      <td>72.0</td>\n",
       "      <td>609.0</td>\n",
       "      <td>639.0</td>\n",
       "      <td>1248.0</td>\n",
       "      <td>2371.433498</td>\n",
       "      <td>2523.375587</td>\n",
       "      <td>2906.824458</td>\n",
       "      <td>2795.917176</td>\n",
       "      <td>-151.942089</td>\n",
       "      <td>-0.941234</td>\n",
       "      <td>3.467676e-01</td>\n",
       "      <td>-1.449596</td>\n",
       "    </tr>\n",
       "    <tr>\n",
       "      <th>45</th>\n",
       "      <td>Сочи</td>\n",
       "      <td>73.0</td>\n",
       "      <td>187.0</td>\n",
       "      <td>167.0</td>\n",
       "      <td>354.0</td>\n",
       "      <td>2092.181818</td>\n",
       "      <td>2521.958084</td>\n",
       "      <td>2530.274648</td>\n",
       "      <td>2875.459633</td>\n",
       "      <td>-429.776266</td>\n",
       "      <td>-1.495845</td>\n",
       "      <td>1.355901e-01</td>\n",
       "      <td>-1.486866</td>\n",
       "    </tr>\n",
       "    <tr>\n",
       "      <th>46</th>\n",
       "      <td>Краснодар</td>\n",
       "      <td>1101.0</td>\n",
       "      <td>785.0</td>\n",
       "      <td>869.0</td>\n",
       "      <td>1654.0</td>\n",
       "      <td>2176.003822</td>\n",
       "      <td>2523.578826</td>\n",
       "      <td>2722.624494</td>\n",
       "      <td>2960.352338</td>\n",
       "      <td>-347.575005</td>\n",
       "      <td>-2.476736</td>\n",
       "      <td>1.335845e-02</td>\n",
       "      <td>-2.138582</td>\n",
       "    </tr>\n",
       "    <tr>\n",
       "      <th>47</th>\n",
       "      <td>Краснодар</td>\n",
       "      <td>1989.0</td>\n",
       "      <td>239.0</td>\n",
       "      <td>270.0</td>\n",
       "      <td>509.0</td>\n",
       "      <td>4407.384937</td>\n",
       "      <td>4163.959259</td>\n",
       "      <td>2737.900725</td>\n",
       "      <td>2492.096293</td>\n",
       "      <td>243.425678</td>\n",
       "      <td>1.049994</td>\n",
       "      <td>2.942213e-01</td>\n",
       "      <td>0.768924</td>\n",
       "    </tr>\n",
       "    <tr>\n",
       "      <th>48</th>\n",
       "      <td>Дмитров</td>\n",
       "      <td>2.0</td>\n",
       "      <td>78.0</td>\n",
       "      <td>71.0</td>\n",
       "      <td>149.0</td>\n",
       "      <td>579.333333</td>\n",
       "      <td>483.450704</td>\n",
       "      <td>1860.762430</td>\n",
       "      <td>1654.923182</td>\n",
       "      <td>95.882629</td>\n",
       "      <td>0.331052</td>\n",
       "      <td>7.410763e-01</td>\n",
       "      <td>0.328578</td>\n",
       "    </tr>\n",
       "    <tr>\n",
       "      <th>49</th>\n",
       "      <td>Тюмень</td>\n",
       "      <td>19.0</td>\n",
       "      <td>130.0</td>\n",
       "      <td>146.0</td>\n",
       "      <td>276.0</td>\n",
       "      <td>2043.823077</td>\n",
       "      <td>1743.376712</td>\n",
       "      <td>2442.266788</td>\n",
       "      <td>2891.333359</td>\n",
       "      <td>300.446365</td>\n",
       "      <td>0.926459</td>\n",
       "      <td>3.550228e-01</td>\n",
       "      <td>2.459825</td>\n",
       "    </tr>\n",
       "    <tr>\n",
       "      <th>50</th>\n",
       "      <td>Сахалинск</td>\n",
       "      <td>69.0</td>\n",
       "      <td>75.0</td>\n",
       "      <td>78.0</td>\n",
       "      <td>153.0</td>\n",
       "      <td>1171.453333</td>\n",
       "      <td>600.153846</td>\n",
       "      <td>2578.104103</td>\n",
       "      <td>1690.139755</td>\n",
       "      <td>571.299487</td>\n",
       "      <td>1.627060</td>\n",
       "      <td>1.058092e-01</td>\n",
       "      <td>1.170428</td>\n",
       "    </tr>\n",
       "  </tbody>\n",
       "</table>\n",
       "</div>"
      ],
      "text/plain": [
       "               city  id_trading_point  count_test  count_control  count_all  \\\n",
       "0   Санкт-Петербург             453.0      1066.0         1049.0     2115.0   \n",
       "1   Санкт-Петербург             112.0       652.0          683.0     1335.0   \n",
       "2   Санкт-Петербург             117.0       625.0          587.0     1212.0   \n",
       "3   Санкт-Петербург             309.0       240.0          238.0      478.0   \n",
       "4   Санкт-Петербург             576.0       630.0          657.0     1287.0   \n",
       "5   Санкт-Петербург             900.0       335.0          341.0      676.0   \n",
       "6   Санкт-Петербург             213.0       232.0          255.0      487.0   \n",
       "7   Санкт-Петербург             801.0       225.0          212.0      437.0   \n",
       "8   Санкт-Петербург             573.0       177.0          160.0      337.0   \n",
       "9   Санкт-Петербург             891.0       159.0          167.0      326.0   \n",
       "10  Санкт-Петербург             394.0       104.0           85.0      189.0   \n",
       "11           Москва            2652.0      2273.0         2370.0     4643.0   \n",
       "12           Москва            3786.0       237.0          278.0      515.0   \n",
       "13           Москва            1287.0       370.0          357.0      727.0   \n",
       "14           Москва            1654.0       799.0          775.0     1574.0   \n",
       "15           Москва            3987.0       801.0          785.0     1586.0   \n",
       "16           Москва            2212.0       422.0          397.0      819.0   \n",
       "17           Москва            8543.0       148.0          140.0      288.0   \n",
       "18           Москва            6543.0       662.0          689.0     1351.0   \n",
       "19           Москва            9121.0       131.0          108.0      239.0   \n",
       "20           Москва            1002.0       138.0          188.0      326.0   \n",
       "21           Москва            9931.0       153.0          137.0      290.0   \n",
       "22          Саратов              80.0       844.0          880.0     1724.0   \n",
       "23          Саратов              82.0       169.0          229.0      398.0   \n",
       "24         Тольятти              88.0       190.0          167.0      357.0   \n",
       "25         Владимир              11.0       509.0          608.0     1117.0   \n",
       "26         Мурманск              55.0       422.0          425.0      847.0   \n",
       "27         Мурманск              54.0       633.0          640.0     1273.0   \n",
       "28       Красноярск             212.0       593.0          575.0     1168.0   \n",
       "29       Красноярск             277.0       708.0          709.0     1417.0   \n",
       "30       Красноярск             202.0       551.0          565.0     1116.0   \n",
       "31       Красноярск             444.0       650.0          562.0     1212.0   \n",
       "32       Красноярск             278.0       535.0          489.0     1024.0   \n",
       "33           Казань             477.0       382.0          386.0      768.0   \n",
       "34           Казань             439.0       355.0          351.0      706.0   \n",
       "35           Казань             544.0       377.0          416.0      793.0   \n",
       "36           Казань             699.0       482.0          494.0      976.0   \n",
       "37           Казань             991.0       270.0          294.0      564.0   \n",
       "38           Казань             516.0       634.0          636.0     1270.0   \n",
       "39           Самара              33.0       232.0          258.0      490.0   \n",
       "40           Самара              34.0       225.0          253.0      478.0   \n",
       "41           Самара              35.0       214.0          194.0      408.0   \n",
       "42           Самара              36.0       131.0          141.0      272.0   \n",
       "43        Волгоград              66.0       657.0          703.0     1360.0   \n",
       "44             Сочи              72.0       609.0          639.0     1248.0   \n",
       "45             Сочи              73.0       187.0          167.0      354.0   \n",
       "46        Краснодар            1101.0       785.0          869.0     1654.0   \n",
       "47        Краснодар            1989.0       239.0          270.0      509.0   \n",
       "48          Дмитров               2.0        78.0           71.0      149.0   \n",
       "49           Тюмень              19.0       130.0          146.0      276.0   \n",
       "50        Сахалинск              69.0        75.0           78.0      153.0   \n",
       "\n",
       "       avg_test  avg_control   sigma_test  sigma_control         diff  \\\n",
       "0   2501.966229  2420.415634  2993.442540    2890.088044    81.550595   \n",
       "1   2488.115031  2776.241581  2778.179183    3057.040898  -288.126551   \n",
       "2   2582.297600  2592.086882  2835.004503    2813.867330    -9.789282   \n",
       "3   2706.279167  3003.789916  2814.939849    3077.161555  -297.510749   \n",
       "4   1594.436508  1760.296804  2683.727211    2815.093171  -165.860296   \n",
       "5   2450.991045  2299.768328  2865.607356    2878.774167   151.222716   \n",
       "6   2977.629310  2857.058824  2905.494362    2845.245598   120.570487   \n",
       "7   2925.142222  2980.155660  2774.292063    3049.074475   -55.013438   \n",
       "8   2929.045198  2252.350000  3201.098137    2975.544726   676.695198   \n",
       "9   2618.949686  2495.455090  2899.782464    2893.862408   123.494596   \n",
       "10  1229.644231  1385.094118  2208.227840    2443.573192  -155.449887   \n",
       "11  2506.616806  1972.847679  2842.182948    2565.878242   533.769127   \n",
       "12  2613.683544  2688.230216  2712.235859    3292.937641   -74.546672   \n",
       "13  2128.556757  1394.655462  2437.376458    2338.461779   733.901295   \n",
       "14  3132.301627  2507.886452  3199.660200    2950.512888   624.415175   \n",
       "15  1602.995006  1639.857325  2518.829205    2686.317417   -36.862319   \n",
       "16  2813.168246  2739.362720  3196.888861    2446.975036    73.805526   \n",
       "17  1859.777027  1804.250000  2568.980429    3015.726630    55.527027   \n",
       "18  1702.439577  1528.325109  2453.901717    2338.522063   174.114468   \n",
       "19  1976.854962  1856.944444  2605.797427    2442.326166   119.910517   \n",
       "20  4121.753623  1844.787234  4084.263176    2436.536120  2276.966389   \n",
       "21  1415.784314  1968.693431  2038.164247    2403.397857  -552.909117   \n",
       "22  2517.330569  2511.972727  2797.123033    2824.719932     5.357841   \n",
       "23  2586.011834  2655.672489  2676.435563    2929.363686   -69.660655   \n",
       "24  2902.410526  2439.461078  3074.648887    2689.343053   462.949448   \n",
       "25  2547.220039  2108.610197  3023.702164    2663.038392   438.609842   \n",
       "26  2109.106635  2111.272941  2790.993385    2804.223188    -2.166306   \n",
       "27  1702.714060  1688.512500  2565.132440    2628.012490    14.201560   \n",
       "28  2144.317032  2222.052174  2708.588724    2785.116250   -77.735142   \n",
       "29  2285.750000  2431.365303  2712.677878    2868.587569  -145.615303   \n",
       "30  2927.341198  2730.378761  2956.686241    2737.885785   196.962437   \n",
       "31  2404.106154  2545.734875  2810.828487    2797.138764  -141.628722   \n",
       "32  2499.345794  2185.214724  2915.995329    2574.915597   314.131070   \n",
       "33  2259.623037  2496.987047  3482.846094    3881.994719  -237.364010   \n",
       "34  2481.960563  2400.635328  4040.441007    3722.117072    81.325236   \n",
       "35  2621.427056  2635.548077  3714.894751    4639.820746   -14.121021   \n",
       "36  2422.286307  2574.352227  3906.817897    4082.851356  -152.065920   \n",
       "37  3249.281481  2452.986395  4719.592601    3633.935858   796.295087   \n",
       "38  3237.200315  2880.484277  4537.103842    3819.292813   356.716039   \n",
       "39  4598.219828  2311.387597  2931.234926    2371.771296  2286.832231   \n",
       "40  3104.506667  1752.608696  2956.826915    2529.700798  1351.897971   \n",
       "41  2762.224299  1508.835052  2977.083547    2184.808094  1253.389248   \n",
       "42  1987.328244   860.418440  2718.502663    1840.826639  1126.909805   \n",
       "43  2288.870624  2601.761024  2682.567610    2830.193773  -312.890400   \n",
       "44  2371.433498  2523.375587  2906.824458    2795.917176  -151.942089   \n",
       "45  2092.181818  2521.958084  2530.274648    2875.459633  -429.776266   \n",
       "46  2176.003822  2523.578826  2722.624494    2960.352338  -347.575005   \n",
       "47  4407.384937  4163.959259  2737.900725    2492.096293   243.425678   \n",
       "48   579.333333   483.450704  1860.762430    1654.923182    95.882629   \n",
       "49  2043.823077  1743.376712  2442.266788    2891.333359   300.446365   \n",
       "50  1171.453333   600.153846  2578.104103    1690.139755   571.299487   \n",
       "\n",
       "    abs_ttest_s   abs_ttest_p  pr_ttest_s  \n",
       "0      0.637238  5.240386e-01    0.728421  \n",
       "1     -1.799588  7.215174e-02   -1.039726  \n",
       "2     -0.060294  9.519316e-01   -0.033579  \n",
       "3     -1.103047  2.705641e-01   -0.492541  \n",
       "4     -1.080998  2.799008e-01   -0.944088  \n",
       "5      0.684416  4.939479e-01    0.787685  \n",
       "6      0.462369  6.440239e-01   -0.058097  \n",
       "7     -0.197457  8.435623e-01   -0.044896  \n",
       "8      2.003598  4.591805e-02    2.713820  \n",
       "9      0.384755  7.006710e-01    1.088194  \n",
       "10    -0.458857  6.468695e-01    0.026697  \n",
       "11     6.722230  2.005922e-11    7.444251  \n",
       "12    -0.277399  7.815857e-01    0.461322  \n",
       "13     4.140297  3.876566e-05    5.229288  \n",
       "14     4.021739  6.050971e-05    1.000342  \n",
       "15    -0.281965  7.780070e-01   -0.474862  \n",
       "16     0.369337  7.119719e-01   -1.171433  \n",
       "17     0.168506  8.663044e-01    1.284455  \n",
       "18     1.335377  1.819782e-01    0.550240  \n",
       "19     0.364183  7.160464e-01   -0.738123  \n",
       "20     6.274622  1.122387e-09    4.304186  \n",
       "21    -2.119197  3.492947e-02   -2.749104  \n",
       "22     0.039558  9.684500e-01    0.571769  \n",
       "23    -0.243173  8.079974e-01    0.432293  \n",
       "24     1.504556  1.333273e-01    1.185144  \n",
       "25     2.576955  1.009511e-02    1.724937  \n",
       "26    -0.011268  9.910125e-01    1.131579  \n",
       "27     0.097556  9.223005e-01    0.155600  \n",
       "28    -0.483585  6.287709e-01    0.450975  \n",
       "29    -0.981705  3.264128e-01   -0.344097  \n",
       "30     1.155073  2.483083e-01   -0.625387  \n",
       "31    -0.876740  3.808017e-01   -0.748236  \n",
       "32     1.820268  6.901056e-02    0.822651  \n",
       "33    -0.891593  3.728909e-01   -0.309729  \n",
       "34     0.278067  7.810423e-01   -0.437119  \n",
       "35    -0.046997  9.625274e-01    1.202226  \n",
       "36    -0.594254  5.524804e-01   -1.514639  \n",
       "37     2.255258  2.450100e-02    1.260334  \n",
       "38     1.515887  1.297971e-01    0.623463  \n",
       "39     9.532838  7.222519e-20    9.815872  \n",
       "40     5.386265  1.132779e-07    6.339267  \n",
       "41     4.806666  2.164676e-06    5.151041  \n",
       "42     4.027951  7.318758e-05    3.989239  \n",
       "43    -2.089272  3.686900e-02   -1.622217  \n",
       "44    -0.941234  3.467676e-01   -1.449596  \n",
       "45    -1.495845  1.355901e-01   -1.486866  \n",
       "46    -2.476736  1.335845e-02   -2.138582  \n",
       "47     1.049994  2.942213e-01    0.768924  \n",
       "48     0.331052  7.410763e-01    0.328578  \n",
       "49     0.926459  3.550228e-01    2.459825  \n",
       "50     1.627060  1.058092e-01    1.170428  "
      ]
     },
     "execution_count": 85,
     "metadata": {},
     "output_type": "execute_result"
    }
   ],
   "source": [
    "df_result"
   ]
  },
  {
   "cell_type": "code",
   "execution_count": 86,
   "id": "e9052a9e-d662-45c8-9798-da56b225c46a",
   "metadata": {},
   "outputs": [],
   "source": [
    "df_result['percent_count']= (df_result['count_all']/df_result['count_all'].sum())\n",
    "\n",
    "df_result['nflag_diff']= np.where(( df_result['abs_ttest_p']<0.05) & (df_result['diff']>0),'Positive'\n",
    "                                  , np.where((df_result['abs_ttest_p']<0.05) & (df_result['diff']<0),'Negative', 'No diff'))\n",
    "                                  "
   ]
  },
  {
   "cell_type": "code",
   "execution_count": 87,
   "id": "78cdb59c-3caa-454c-9493-81ce0d032b90",
   "metadata": {},
   "outputs": [],
   "source": [
    "writer = pd.ExcelWriter('Калькулятор АБ теста.xlsx',engine = 'xlsxwriter')\n",
    "\n",
    "df_result[df_result['nflag_diff']=='Positive'].to_excel(writer, sheet_name='Успешные ТТ', index= False)\n",
    "df_result[df_result['nflag_diff']=='Negative'].to_excel(writer, sheet_name='Неуспешные ТТ', index= False)\n",
    "df_result[df_result['nflag_diff']=='No diff'].to_excel(writer, sheet_name='Нет разницы', index= False)\n",
    "\n",
    "writer.close()"
   ]
  },
  {
   "cell_type": "code",
   "execution_count": null,
   "id": "847836de-6895-4669-853d-d8fcd018d911",
   "metadata": {},
   "outputs": [],
   "source": []
  }
 ],
 "metadata": {
  "kernelspec": {
   "display_name": "base",
   "language": "python",
   "name": "python3"
  },
  "language_info": {
   "codemirror_mode": {
    "name": "ipython",
    "version": 3
   },
   "file_extension": ".py",
   "mimetype": "text/x-python",
   "name": "python",
   "nbconvert_exporter": "python",
   "pygments_lexer": "ipython3",
   "version": "3.9.7"
  }
 },
 "nbformat": 4,
 "nbformat_minor": 5
}
